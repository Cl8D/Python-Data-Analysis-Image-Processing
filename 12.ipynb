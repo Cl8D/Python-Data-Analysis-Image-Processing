{
  "nbformat": 4,
  "nbformat_minor": 0,
  "metadata": {
    "colab": {
      "name": "12.ipynb",
      "provenance": [],
      "authorship_tag": "ABX9TyOfvIV+mPWjmIk3KTSjetQn",
      "include_colab_link": true
    },
    "kernelspec": {
      "name": "python3",
      "display_name": "Python 3"
    }
  },
  "cells": [
    {
      "cell_type": "markdown",
      "metadata": {
        "id": "view-in-github",
        "colab_type": "text"
      },
      "source": [
        "<a href=\"https://colab.research.google.com/github/Cl8D/Python-Data-Analysis-Image-Processing/blob/main/12.ipynb\" target=\"_parent\"><img src=\"https://colab.research.google.com/assets/colab-badge.svg\" alt=\"Open In Colab\"/></a>"
      ]
    },
    {
      "cell_type": "markdown",
      "metadata": {
        "id": "7RYLHvKKBkh-"
      },
      "source": [
        "# **12강. OpenCV 도형 그리기**"
      ]
    },
    {
      "cell_type": "code",
      "metadata": {
        "colab": {
          "base_uri": "https://localhost:8080/",
          "height": 269
        },
        "id": "lxgPwApXBjFQ",
        "outputId": "f36de91c-7bdf-4b61-beec-fcb8afc33a4d"
      },
      "source": [
        "import cv2\r\n",
        "import numpy as np\r\n",
        "import matplotlib.pyplot as plt\r\n",
        "\r\n",
        "image = np.full((512, 512, 3), 255, np.uint8) #가로, 세로 길이가 512, RGB / 모든 값을 255로 초기화\r\n",
        "#(0,0)부터 (255, 255)까지, 색상은 R 값(255), 두께는 3으로\r\n",
        "image = cv2.line(image, (0, 0), (255, 255), (255, 0, 0), 3)\r\n",
        "\r\n",
        "plt.imshow(image)\r\n",
        "plt.show()"
      ],
      "execution_count": 1,
      "outputs": [
        {
          "output_type": "display_data",
          "data": {
            "image/png": "[encoded data removed]",
            "text/plain": [
              "<Figure size 432x288 with 1 Axes>"
            ]
          },
          "metadata": {
            "tags": [],
            "needs_background": "light"
          }
        }
      ]
    },
    {
      "cell_type": "code",
      "metadata": {
        "colab": {
          "base_uri": "https://localhost:8080/",
          "height": 269
        },
        "id": "5rxhMShbHKgc",
        "outputId": "b3f4d024-cbd1-4dfb-89e0-8e7d26909c66"
      },
      "source": [
        "import cv2\r\n",
        "import numpy as np\r\n",
        "import matplotlib.pyplot as plt\r\n",
        "\r\n",
        "image = np.full((512, 512, 3), 255, np.uint8)\r\n",
        "#(20, 20)부터 (255, 255)까지, 색상은 빨간색, 두께는 5\r\n",
        "image = cv2.rectangle(image, (20, 20), (255, 255), (255, 0, 0), 5)\r\n",
        "\r\n",
        "plt.imshow(image)\r\n",
        "plt.show()"
      ],
      "execution_count": 3,
      "outputs": [
        {
          "output_type": "display_data",
          "data": {
            "image/png": "[encoded data removed]",
            "text/plain": [
              "<Figure size 432x288 with 1 Axes>"
            ]
          },
          "metadata": {
            "tags": [],
            "needs_background": "light"
          }
        }
      ]
    },
    {
      "cell_type": "code",
      "metadata": {
        "colab": {
          "base_uri": "https://localhost:8080/",
          "height": 269
        },
        "id": "EUzJTk7tIY-n",
        "outputId": "dd1e8512-f473-4207-f24a-0909bdcc00a0"
      },
      "source": [
        "import cv2\r\n",
        "import numpy as np\r\n",
        "import matplotlib.pyplot as plt\r\n",
        "\r\n",
        "image = np.full((512, 512, 3), 255, np.uint8)\r\n",
        "#(100, 100)부터 (255, 255)까지, 색상은 파랑색, 채우기\r\n",
        "image = cv2.rectangle(image, (100, 100), (255, 255), (0, 0, 255), -1)\r\n",
        "\r\n",
        "plt.imshow(image)\r\n",
        "plt.show()"
      ],
      "execution_count": 6,
      "outputs": [
        {
          "output_type": "display_data",
          "data": {
            "image/png": "[encoded data removed]",
            "text/plain": [
              "<Figure size 432x288 with 1 Axes>"
            ]
          },
          "metadata": {
            "tags": [],
            "needs_background": "light"
          }
        }
      ]
    },
    {
      "cell_type": "code",
      "metadata": {
        "colab": {
          "base_uri": "https://localhost:8080/",
          "height": 269
        },
        "id": "X0UsM6ruI5GC",
        "outputId": "beb6c938-198e-4f63-b3f1-2839728a7da5"
      },
      "source": [
        "import cv2\r\n",
        "import numpy as np\r\n",
        "import matplotlib.pyplot as plt\r\n",
        "\r\n",
        "image = np.full((512, 512, 3), 255, np.uint8)\r\n",
        "#중심이 (255, 255)이며 반지름이 30, 두께가 3인 빨간색 원 출력\r\n",
        "image = cv2.circle(image, (255, 255), 30, (255, 0, 0), 3)\r\n",
        "\r\n",
        "plt.imshow(image)\r\n",
        "plt.show()"
      ],
      "execution_count": 7,
      "outputs": [
        {
          "output_type": "display_data",
          "data": {
            "image/png": "[encoded data removed]",
            "text/plain": [
              "<Figure size 432x288 with 1 Axes>"
            ]
          },
          "metadata": {
            "tags": [],
            "needs_background": "light"
          }
        }
      ]
    },
    {
      "cell_type": "code",
      "metadata": {
        "colab": {
          "base_uri": "https://localhost:8080/",
          "height": 269
        },
        "id": "WXc06edBJVGD",
        "outputId": "0ad45ede-7966-44e5-e034-62276265894f"
      },
      "source": [
        "import cv2\r\n",
        "import numpy as np\r\n",
        "import matplotlib.pyplot as plt\r\n",
        "\r\n",
        "image = np.full((512, 512, 3), 255, np.uint8)\r\n",
        "image = cv2.circle(image, (255, 255), 30, (100, 200, 350), -1)\r\n",
        "\r\n",
        "plt.imshow(image)\r\n",
        "plt.show()"
      ],
      "execution_count": 10,
      "outputs": [
        {
          "output_type": "display_data",
          "data": {
            "image/png": "[encoded data removed]",
            "text/plain": [
              "<Figure size 432x288 with 1 Axes>"
            ]
          },
          "metadata": {
            "tags": [],
            "needs_background": "light"
          }
        }
      ]
    },
    {
      "cell_type": "code",
      "metadata": {
        "colab": {
          "base_uri": "https://localhost:8080/",
          "height": 269
        },
        "id": "5f2t9X4wJg0Z",
        "outputId": "55d0e504-a13d-46b3-d6ec-1ca44bc9ea13"
      },
      "source": [
        "import cv2\r\n",
        "import numpy as np\r\n",
        "import matplotlib.pyplot as plt\r\n",
        "\r\n",
        "image = np.full((512, 512, 3), 255, np.uint8)\r\n",
        "#4개의 점 선언해 주기\r\n",
        "points = np.array([[5, 5], [128, 258], [483, 444], [400, 150]])\r\n",
        "#닫힌 도형 여부 True\r\n",
        "image = cv2.polylines(image, [points], True, (0, 0, 255), 4)\r\n",
        "\r\n",
        "plt.imshow(image)\r\n",
        "plt.show()"
      ],
      "execution_count": 11,
      "outputs": [
        {
          "output_type": "display_data",
          "data": {
            "image/png": "[encoded data removed]",
            "text/plain": [
              "<Figure size 432x288 with 1 Axes>"
            ]
          },
          "metadata": {
            "tags": [],
            "needs_background": "light"
          }
        }
      ]
    },
    {
      "cell_type": "code",
      "metadata": {
        "colab": {
          "base_uri": "https://localhost:8080/",
          "height": 269
        },
        "id": "fMTuqBgnKKbN",
        "outputId": "a63eb5e5-688e-415a-e83c-45e948150f16"
      },
      "source": [
        "import cv2\r\n",
        "import numpy as np\r\n",
        "import matplotlib.pyplot as plt\r\n",
        "\r\n",
        "image = np.full((512, 512, 3), 255, np.uint8)\r\n",
        "points = np.array([[5, 5], [128, 258], [483, 444], [400, 150]])\r\n",
        "image = cv2.polylines(image, [points], False, (0, 255, 0), 4)\r\n",
        "\r\n",
        "plt.imshow(image)\r\n",
        "plt.show()"
      ],
      "execution_count": 13,
      "outputs": [
        {
          "output_type": "display_data",
          "data": {
            "image/png": "[encoded data removed]",
            "text/plain": [
              "<Figure size 432x288 with 1 Axes>"
            ]
          },
          "metadata": {
            "tags": [],
            "needs_background": "light"
          }
        }
      ]
    },
    {
      "cell_type": "code",
      "metadata": {
        "colab": {
          "base_uri": "https://localhost:8080/",
          "height": 269
        },
        "id": "SyU2sHF4P2Qv",
        "outputId": "78768ea9-f182-429b-b1bd-b6d2d7f560e8"
      },
      "source": [
        "import cv2\r\n",
        "import numpy as np\r\n",
        "import matplotlib.pyplot as plt\r\n",
        "\r\n",
        "image = np.full((512, 512, 3), 255, np.uint8)\r\n",
        "image = cv2.putText(image, 'Hello World', (0, 200), cv2.FONT_ITALIC, 2, (255, 0, 0))\r\n",
        "\r\n",
        "plt.imshow(image)\r\n",
        "plt.show()"
      ],
      "execution_count": 16,
      "outputs": [
        {
          "output_type": "display_data",
          "data": {
            "image/png": "[encoded data removed]",
            "text/plain": [
              "<Figure size 432x288 with 1 Axes>"
            ]
          },
          "metadata": {
            "tags": [],
            "needs_background": "light"
          }
        }
      ]
    },
    {
      "cell_type": "code",
      "metadata": {
        "id": "EylDWMqoRLUJ"
      },
      "source": [
        ""
      ],
      "execution_count": null,
      "outputs": []
    }
  ]
}