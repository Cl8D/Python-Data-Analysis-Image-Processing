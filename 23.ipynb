{
  "nbformat": 4,
  "nbformat_minor": 0,
  "metadata": {
    "colab": {
      "name": "23.ipynb",
      "provenance": [],
      "mount_file_id": "1wrBx_2eMenkvN54qsiWPm2AjS5u47Z6c",
      "authorship_tag": "ABX9TyPHWeukGQ2Rrj7KEYDCeHmC",
      "include_colab_link": true
    },
    "kernelspec": {
      "name": "python3",
      "display_name": "Python 3"
    }
  },
  "cells": [
    {
      "cell_type": "markdown",
      "metadata": {
        "id": "view-in-github",
        "colab_type": "text"
      },
      "source": [
        "<a href=\"https://colab.research.google.com/github/Cl8D/Python-Data-Analysis-Image-Processing/blob/main/23.ipynb\" target=\"_parent\"><img src=\"https://colab.research.google.com/assets/colab-badge.svg\" alt=\"Open In Colab\"/></a>"
      ]
    },
    {
      "cell_type": "markdown",
      "metadata": {
        "id": "tM1iitL_3gDr"
      },
      "source": [
        "# **23강. Pandas의 기본 사용법**"
      ]
    },
    {
      "cell_type": "code",
      "metadata": {
        "colab": {
          "base_uri": "https://localhost:8080/"
        },
        "id": "EiNNE5lq2bQH",
        "outputId": "cdf5f593-29d8-408d-ad49-b4f430a74498"
      },
      "source": [
        "import pandas as pd\r\n",
        "\r\n",
        "array = pd.Series(['사과', '바나나', '당근'], index=['a', 'b', 'c'])\r\n",
        "\r\n",
        "print(array)\r\n",
        "print(array['a'])"
      ],
      "execution_count": 3,
      "outputs": [
        {
          "output_type": "stream",
          "text": [
            "a     사과\n",
            "b    바나나\n",
            "c     당근\n",
            "dtype: object\n",
            "사과\n"
          ],
          "name": "stdout"
        }
      ]
    },
    {
      "cell_type": "code",
      "metadata": {
        "colab": {
          "base_uri": "https://localhost:8080/"
        },
        "id": "GfxQ2eZt3qkk",
        "outputId": "80f86b10-57ab-4d84-a3fd-677b28577050"
      },
      "source": [
        "import pandas as pd\r\n",
        "\r\n",
        "data = {\r\n",
        "    'a': '사과',\r\n",
        "    'b': '바나나',\r\n",
        "    'c': '당근'\r\n",
        "}\r\n",
        "\r\n",
        "# Dict 자료형을 Series로 바꾸기\r\n",
        "array = pd.Series(data)\r\n",
        "print(array['a'])\r\n",
        "print(array['b'])\r\n",
        "print(array['c'])"
      ],
      "execution_count": 5,
      "outputs": [
        {
          "output_type": "stream",
          "text": [
            "사과\n",
            "바나나\n",
            "당근\n"
          ],
          "name": "stdout"
        }
      ]
    },
    {
      "cell_type": "code",
      "metadata": {
        "colab": {
          "base_uri": "https://localhost:8080/"
        },
        "id": "9Dr46FFM4C2L",
        "outputId": "8eea5aeb-bf8a-45fe-bc1b-ebac40b0dbc8"
      },
      "source": [
        "import pandas as pd\r\n",
        "\r\n",
        "#2개의 Series 존재\r\n",
        "word_dict = {\r\n",
        "    'Apple': '사과',\r\n",
        "    'Banana': '바나나',\r\n",
        "    'Carrot': '당근'\r\n",
        "}\r\n",
        "\r\n",
        "frequency_dict = {\r\n",
        "    'Apple': 3,\r\n",
        "    'Banana': 5,\r\n",
        "    'Carrot': 7\r\n",
        "}\r\n",
        "\r\n",
        "word = pd.Series(word_dict)\r\n",
        "frequency = pd.Series(frequency_dict)\r\n",
        "\r\n",
        "# dataframe은 인덱스를 기준으로 정렬된다\r\n",
        "# 이름(Name): 값(Values)\r\n",
        "summary = pd.DataFrame({\r\n",
        "    'word': word,\r\n",
        "    'frequency': frequency\r\n",
        "})\r\n",
        "\r\n",
        "print(summary)"
      ],
      "execution_count": 6,
      "outputs": [
        {
          "output_type": "stream",
          "text": [
            "       word  frequency\n",
            "Apple    사과          3\n",
            "Banana  바나나          5\n",
            "Carrot   당근          7\n"
          ],
          "name": "stdout"
        }
      ]
    },
    {
      "cell_type": "code",
      "metadata": {
        "colab": {
          "base_uri": "https://localhost:8080/"
        },
        "id": "kWmUEt3t40ef",
        "outputId": "92af0f59-9224-40e4-e84e-249580df6d36"
      },
      "source": [
        "import pandas as pd\r\n",
        "\r\n",
        "word_dict = {\r\n",
        "    'Apple': '사과',\r\n",
        "    'Banana': '바나나',\r\n",
        "    'Carrot': '당근'\r\n",
        "}\r\n",
        "\r\n",
        "frequency_dict = {\r\n",
        "    'Apple': 3,\r\n",
        "    'Banana': 5,\r\n",
        "    'Carrot': 7\r\n",
        "}\r\n",
        "\r\n",
        "importance_dict = {\r\n",
        "    'Apple': 3,\r\n",
        "    'Banana': 2,\r\n",
        "    'Carrot': 1\r\n",
        "}\r\n",
        "\r\n",
        "word = pd.Series(word_dict)\r\n",
        "frequency = pd.Series(frequency_dict)\r\n",
        "importance = pd.Series(importance_dict)\r\n",
        "\r\n",
        "summary = pd.DataFrame({\r\n",
        "    'word': word,\r\n",
        "    'frequency': frequency,\r\n",
        "    'importance': importance\r\n",
        "})\r\n",
        "\r\n",
        "#score에서는 두 값을 곱해주는 것을 확인할 수 있다\r\n",
        "#정확하게는 frequency와 importance의 데이터 값들을 곱해준다고 생각\r\n",
        "score = summary['frequency'] * summary['importance']\r\n",
        "summary['score'] = score\r\n",
        "\r\n",
        "print(summary)"
      ],
      "execution_count": 7,
      "outputs": [
        {
          "output_type": "stream",
          "text": [
            "       word  frequency  importance  score\n",
            "Apple    사과          3           3      9\n",
            "Banana  바나나          5           2     10\n",
            "Carrot   당근          7           1      7\n"
          ],
          "name": "stdout"
        }
      ]
    },
    {
      "cell_type": "code",
      "metadata": {
        "colab": {
          "base_uri": "https://localhost:8080/"
        },
        "id": "VZvyDwnm9l0C",
        "outputId": "2efa8201-386e-4f61-cbec-4a0c35e12ce9"
      },
      "source": [
        "import pandas as pd\r\n",
        "\r\n",
        "#3개의 시리즈 존재\r\n",
        "word_dict = {\r\n",
        "    'Apple': '사과',\r\n",
        "    'Banana': '바나나',\r\n",
        "    'Carrot': '당근',\r\n",
        "    'Durian': '두리안'\r\n",
        "}\r\n",
        "\r\n",
        "frequency_dict = {\r\n",
        "    'Apple': 3,\r\n",
        "    'Banana': 5,\r\n",
        "    'Carrot': 7,\r\n",
        "    'Durian': 2\r\n",
        "}\r\n",
        "\r\n",
        "importance_dict = {\r\n",
        "    'Apple': 3,\r\n",
        "    'Banana': 2,\r\n",
        "    'Carrot': 1,\r\n",
        "    'Durian': 1\r\n",
        "}\r\n",
        "\r\n",
        "word = pd.Series(word_dict)\r\n",
        "frequency = pd.Series(frequency_dict)\r\n",
        "importance = pd.Series(importance_dict)\r\n",
        "\r\n",
        "summary = pd.DataFrame({\r\n",
        "    'word': word,\r\n",
        "    'frequency': frequency,\r\n",
        "    'importance': importance\r\n",
        "})\r\n",
        "\r\n",
        "print(summary)\r\n",
        "\r\n",
        "# 이름을 기준으로 슬라이싱\r\n",
        "# Banana~Carrot / importance~끝까지\r\n",
        "print(summary.loc['Banana':'Carrot', 'importance':])\r\n",
        "\r\n",
        "# 인덱스를 기준으로 슬라이싱\r\n",
        "# 1~2행, 2~끝열\r\n",
        "print(summary.iloc[1:3, 2:])"
      ],
      "execution_count": 8,
      "outputs": [
        {
          "output_type": "stream",
          "text": [
            "       word  frequency  importance\n",
            "Apple    사과          3           3\n",
            "Banana  바나나          5           2\n",
            "Carrot   당근          7           1\n",
            "Durian  두리안          2           1\n",
            "        importance\n",
            "Banana           2\n",
            "Carrot           1\n",
            "        importance\n",
            "Banana           2\n",
            "Carrot           1\n"
          ],
          "name": "stdout"
        }
      ]
    },
    {
      "cell_type": "code",
      "metadata": {
        "colab": {
          "base_uri": "https://localhost:8080/"
        },
        "id": "G60pfc1D-Ppp",
        "outputId": "46c06b1a-95af-4bd8-c602-94c966108a8d"
      },
      "source": [
        "import pandas as pd\r\n",
        "\r\n",
        "word_dict = {\r\n",
        "    'Apple': '사과',\r\n",
        "    'Banana': '바나나',\r\n",
        "    'Carrot': '당근',\r\n",
        "    'Durian': '두리안'\r\n",
        "}\r\n",
        "\r\n",
        "frequency_dict = {\r\n",
        "    'Apple': 3,\r\n",
        "    'Banana': 5,\r\n",
        "    'Carrot': 7,\r\n",
        "    'Durian': 2\r\n",
        "}\r\n",
        "\r\n",
        "importance_dict = {\r\n",
        "    'Apple': 3,\r\n",
        "    'Banana': 2,\r\n",
        "    'Carrot': 1,\r\n",
        "    'Durian': 1\r\n",
        "}\r\n",
        "\r\n",
        "word = pd.Series(word_dict)\r\n",
        "frequency = pd.Series(frequency_dict)\r\n",
        "importance = pd.Series(importance_dict)\r\n",
        "\r\n",
        "summary = pd.DataFrame({\r\n",
        "    'word': word,\r\n",
        "    'frequency': frequency,\r\n",
        "    'importance': importance\r\n",
        "})\r\n",
        "\r\n",
        "print(summary)\r\n",
        "\r\n",
        "#Apple(index)에 있는 Importance 값으로 5를 넣어주기\r\n",
        "summary.loc['Apple', 'importance'] = 5 # 데이터의 변경\r\n",
        "\r\n",
        "#Elderberry(index)를 새롭게 추가. 순서대로 word, frequency, importance\r\n",
        "summary.loc['Elderberry'] = ['엘더베리', 5, 3] # 새 데이터 삽입\r\n",
        "\r\n",
        "print(summary)"
      ],
      "execution_count": 9,
      "outputs": [
        {
          "output_type": "stream",
          "text": [
            "       word  frequency  importance\n",
            "Apple    사과          3           3\n",
            "Banana  바나나          5           2\n",
            "Carrot   당근          7           1\n",
            "Durian  두리안          2           1\n",
            "            word  frequency  importance\n",
            "Apple         사과          3           5\n",
            "Banana       바나나          5           2\n",
            "Carrot        당근          7           1\n",
            "Durian       두리안          2           1\n",
            "Elderberry  엘더베리          5           3\n"
          ],
          "name": "stdout"
        }
      ]
    },
    {
      "cell_type": "code",
      "metadata": {
        "colab": {
          "base_uri": "https://localhost:8080/"
        },
        "id": "O-iudpNT-SWH",
        "outputId": "cd9a4a6a-21c9-4480-e27f-14202aea14bb"
      },
      "source": [
        "import pandas as pd\r\n",
        "\r\n",
        "word_dict = {\r\n",
        "    'Apple': '사과',\r\n",
        "    'Banana': '바나나',\r\n",
        "    'Carrot': '당근'\r\n",
        "}\r\n",
        "\r\n",
        "frequency_dict = {\r\n",
        "    'Apple': 3,\r\n",
        "    'Banana': 5,\r\n",
        "    'Carrot': 7\r\n",
        "}\r\n",
        "\r\n",
        "word = pd.Series(word_dict)\r\n",
        "frequency = pd.Series(frequency_dict)\r\n",
        "\r\n",
        "summary = pd.DataFrame({\r\n",
        "    'word': word,\r\n",
        "    'frequency': frequency\r\n",
        "})\r\n",
        "\r\n",
        "#데이터 내보내기(한글 인코딩: utf-8)\r\n",
        "summary.to_csv(\"summary.csv\", encoding=\"utf-8-sig\")\r\n",
        "#데이터 불러오기\r\n",
        "saved = pd.read_csv(\"summary.csv\", index_col=0)\r\n",
        "print(saved)"
      ],
      "execution_count": 10,
      "outputs": [
        {
          "output_type": "stream",
          "text": [
            "       word  frequency\n",
            "Apple    사과          3\n",
            "Banana  바나나          5\n",
            "Carrot   당근          7\n"
          ],
          "name": "stdout"
        }
      ]
    },
    {
      "cell_type": "code",
      "metadata": {
        "id": "xwz5ZZocBPpQ"
      },
      "source": [
        ""
      ],
      "execution_count": null,
      "outputs": []
    }
  ]
}