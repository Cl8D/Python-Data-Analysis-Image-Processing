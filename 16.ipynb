{
  "nbformat": 4,
  "nbformat_minor": 0,
  "metadata": {
    "colab": {
      "name": "16.ipynb",
      "provenance": [],
      "authorship_tag": "ABX9TyMVpZfgDQyTSzu4C/zcU2r0",
      "include_colab_link": true
    },
    "kernelspec": {
      "name": "python3",
      "display_name": "Python 3"
    }
  },
  "cells": [
    {
      "cell_type": "markdown",
      "metadata": {
        "id": "view-in-github",
        "colab_type": "text"
      },
      "source": [
        "<a href=\"https://colab.research.google.com/github/Cl8D/Python-Data-Analysis-Image-Processing/blob/main/16.ipynb\" target=\"_parent\"><img src=\"https://colab.research.google.com/assets/colab-badge.svg\" alt=\"Open In Colab\"/></a>"
      ]
    },
    {
      "cell_type": "markdown",
      "metadata": {
        "id": "UqA72Aeo784h"
      },
      "source": [
        "# **16강. KNN 알고리즘**"
      ]
    },
    {
      "cell_type": "code",
      "metadata": {
        "colab": {
          "base_uri": "https://localhost:8080/",
          "height": 319
        },
        "id": "dbS77A4-76G8",
        "outputId": "10dac037-4570-4ba5-8588-d52891e0837c"
      },
      "source": [
        "'''\r\n",
        "예제 설명\r\n",
        "- 총 25개의 데이터를 랜덤하게 만든다.\r\n",
        "- 레이블은 2가지 존재한다. (빨간 세모 / 파란 네모)\r\n",
        "- 세모는 0번 레이블, 네모는 1번 레이블이다.\r\n",
        "- 이때, 임의의 초록색 데이터가 들어왔을 때 해당 데이터는 어떤 레이블에 속할까?\r\n",
        "'''\r\n",
        "\r\n",
        "import cv2\r\n",
        "import numpy as np\r\n",
        "from matplotlib import pyplot as plt\r\n",
        "\r\n",
        "# 25개의 데이터를 2차원 공간에 배치.\r\n",
        "# 각각의 값들은 0 ~ 100 사이의 임의의 값을 가진다.\r\n",
        "trainData = np.random.randint(0, 100, (25, 2)).astype(np.float32)\r\n",
        "\r\n",
        "# 25개의 데이터를 0 or 1로 배정하기\r\n",
        "response = np.random.randint(0, 2, (25, 1)).astype(np.float32)\r\n",
        "\r\n",
        "# 레이블이 0인 데이터 찾기\r\n",
        "red = trainData[response.ravel() == 0]\r\n",
        "# 해당 데이터의 위치에 맞게 빨간색 세모로 색을 칠해줌.\r\n",
        "# 여기서 80은 marker에 해당하는 값. (크기)\r\n",
        "plt.scatter(red[:, 0], red[:, 1], 80, 'r', '^')\r\n",
        "\r\n",
        "# 레이블이 1인 데이터 찾기\r\n",
        "blue = trainData[response.ravel() == 1]\r\n",
        "# 해당 데이터의 위치에 맞게 파란색 네모로 색을 칠해준다.\r\n",
        "plt.scatter(blue[:, 0], blue[:, 1], 80, 'b', 's')\r\n",
        "\r\n",
        "# (0 ~ 100, 0 ~ 100) 위치에 데이터를 하나 추가해 주기\r\n",
        "newcomer = np.random.randint(0, 100, (1, 2)).astype(np.float32)\r\n",
        "# 해당 데이터의 위치에 초록색 동그라미로 색칠하기.\r\n",
        "plt.scatter(newcomer[:, 0], newcomer[:, 1], 80, 'g', 'o')\r\n",
        "\r\n",
        "# KNearest_create 함수를 이용하여 KNN 객체 생성하기\r\n",
        "knn = cv2.ml.KNearest_create()\r\n",
        "# 기존에 존재하는 25개의 데이터를 이용해 초기화. 데이터의 레이블을 이용함.\r\n",
        "knn.train(trainData, cv2.ml.ROW_SAMPLE, response)\r\n",
        "# k=3일 때, 가장 가까운 3개의 데이터를 골라서 결과를 가져오기\r\n",
        "ret, results, neighbours, dist = knn.findNearest(newcomer, 3)\r\n",
        "\r\n",
        "print(\"result : \", results) #어떤 색으로 분류되는지 알려줌.\r\n",
        "print(\"neighbours :\", neighbours) #가장 가까운 데이터 3개를 알려준다\r\n",
        "print(\"distance: \", dist) #각각의 데이터의 거리를 출력\r\n",
        "\r\n",
        "plt.show()"
      ],
      "execution_count": 13,
      "outputs": [
        {
          "output_type": "stream",
          "text": [
            "result :  [[1.]]\n",
            "neighbours : [[1. 1. 0.]]\n",
            "distance:  [[104. 386. 468.]]\n"
          ],
          "name": "stdout"
        },
        {
          "output_type": "display_data",
          "data": {
            "image/png": "[encoded data removed]",
            "text/plain": [
              "<Figure size 432x288 with 1 Axes>"
            ]
          },
          "metadata": {
            "tags": [],
            "needs_background": "light"
          }
        }
      ]
    },
    {
      "cell_type": "code",
      "metadata": {
        "colab": {
          "base_uri": "https://localhost:8080/",
          "height": 319
        },
        "id": "B7oZkFwW8i5N",
        "outputId": "8aa11837-9957-4b2e-fd88-ebfb200f9ba7"
      },
      "source": [
        "import cv2\r\n",
        "import numpy as np\r\n",
        "from matplotlib import pyplot as plt\r\n",
        "\r\n",
        "# 25개의 데이터를 2차원 공간에 배치.\r\n",
        "# 각각의 값들은 0 ~ 100 사이의 임의의 값을 가진다.\r\n",
        "trainData = np.random.randint(0, 100, (25, 2)).astype(np.float32)\r\n",
        "\r\n",
        "# 25개의 데이터를 0 or 1로 배정하기\r\n",
        "response = np.random.randint(0, 2, (25, 1)).astype(np.float32)\r\n",
        "\r\n",
        "# 레이블이 0인 데이터 찾기\r\n",
        "red = trainData[response.ravel() == 0]\r\n",
        "# 해당 데이터의 위치에 맞게 빨간색 세모로 색을 칠해줌.\r\n",
        "# 여기서 80은 marker에 해당하는 값. (크기)\r\n",
        "plt.scatter(red[:, 0], red[:, 1], 80, 'r', '^')\r\n",
        "\r\n",
        "# 레이블이 1인 데이터 찾기\r\n",
        "blue = trainData[response.ravel() == 1]\r\n",
        "# 해당 데이터의 위치에 맞게 파란색 네모로 색을 칠해준다.\r\n",
        "plt.scatter(blue[:, 0], blue[:, 1], 80, 'b', 's')\r\n",
        "\r\n",
        "# (0 ~ 100, 0 ~ 100) 위치에 데이터를 하나 추가해 주기\r\n",
        "newcomer = np.random.randint(0, 100, (1, 2)).astype(np.float32)\r\n",
        "# 해당 데이터의 위치에 초록색 동그라미로 색칠하기.\r\n",
        "plt.scatter(newcomer[:, 0], newcomer[:, 1], 80, 'g', 'o')\r\n",
        "\r\n",
        "# KNearest_create 함수를 이용하여 KNN 객체 생성하기\r\n",
        "knn = cv2.ml.KNearest_create()\r\n",
        "# 기존에 존재하는 25개의 데이터를 이용해 초기화. 데이터의 레이블을 이용함.\r\n",
        "knn.train(trainData, cv2.ml.ROW_SAMPLE, response)\r\n",
        "# k=3일 때, 가장 가까운 3개의 데이터를 골라서 결과를 가져오기\r\n",
        "ret, results, neighbours, dist = knn.findNearest(newcomer, 3)\r\n",
        "\r\n",
        "if results == 0 :\r\n",
        "  results = 'blue'\r\n",
        "else :\r\n",
        "  results = 'red'\r\n",
        "\r\n",
        "print(\"result : \", results) #어떤 색으로 분류되는지 알려줌.\r\n",
        "print(\"neighbours :\", neighbours) #가장 가까운 데이터 3개를 알려준다\r\n",
        "print(\"distance: \", dist) #각각의 데이터의 거리를 출력\r\n",
        "\r\n",
        "plt.show()"
      ],
      "execution_count": 26,
      "outputs": [
        {
          "output_type": "stream",
          "text": [
            "result :  red\n",
            "neighbours : [[1. 0. 1.]]\n",
            "distance:  [[ 85. 445. 881.]]\n"
          ],
          "name": "stdout"
        },
        {
          "output_type": "display_data",
          "data": {
            "image/png": "[encoded data removed]",
            "text/plain": [
              "<Figure size 432x288 with 1 Axes>"
            ]
          },
          "metadata": {
            "tags": [],
            "needs_background": "light"
          }
        }
      ]
    },
    {
      "cell_type": "code",
      "metadata": {
        "id": "0cC7_xRcAAyj"
      },
      "source": [
        ""
      ],
      "execution_count": null,
      "outputs": []
    }
  ]
}