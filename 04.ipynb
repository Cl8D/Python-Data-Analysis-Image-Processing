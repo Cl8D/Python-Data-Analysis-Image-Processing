{
  "nbformat": 4,
  "nbformat_minor": 0,
  "metadata": {
    "colab": {
      "name": "03.ipynb",
      "provenance": [],
      "authorship_tag": "ABX9TyMHBpkKbZIV9cvs1uBGspq9",
      "include_colab_link": true
    },
    "kernelspec": {
      "name": "python3",
      "display_name": "Python 3"
    }
  },
  "cells": [
    {
      "cell_type": "markdown",
      "metadata": {
        "id": "view-in-github",
        "colab_type": "text"
      },
      "source": [
        "<a href=\"https://colab.research.google.com/github/Cl8D/Python-Data-Analysis-Image-Processing/blob/main/03.ipynb\" target=\"_parent\"><img src=\"https://colab.research.google.com/assets/colab-badge.svg\" alt=\"Open In Colab\"/></a>"
      ]
    },
    {
      "cell_type": "markdown",
      "metadata": {
        "id": "jqtgu7U-2Mgj"
      },
      "source": [
        "#**03강. Numpy의 기본 사용법**"
      ]
    },
    {
      "cell_type": "code",
      "metadata": {
        "colab": {
          "base_uri": "https://localhost:8080/"
        },
        "id": "TILCDe8j1zd4",
        "outputId": "34ce76a0-4eba-4c94-b02e-d5f8e0050aaa"
      },
      "source": [
        "import numpy as np\r\n",
        "\r\n",
        "array = np.array([1, 2, 3])\r\n",
        "print(array.size) #배열의 크기\r\n",
        "print(array.dtype) #배열 원소의 타입\r\n",
        "print(array[2]) #인덱스 2의 원소"
      ],
      "execution_count": 1,
      "outputs": [
        {
          "output_type": "stream",
          "text": [
            "3\n",
            "int64\n",
            "3\n"
          ],
          "name": "stdout"
        }
      ]
    },
    {
      "cell_type": "code",
      "metadata": {
        "colab": {
          "base_uri": "https://localhost:8080/"
        },
        "id": "i_rbDjXr2GT9",
        "outputId": "f21ff716-90d2-4ae1-a011-df3b5258e797"
      },
      "source": [
        "#0부터 3까지의 배열 만들기\r\n",
        "array1 = np.arange(4)\r\n",
        "print(array1)\r\n",
        "\r\n",
        "#0으로 초기화\r\n",
        "array2 = np.zeros((4, 4), dtype = float)\r\n",
        "print(array2)\r\n",
        "\r\n",
        "#1로 초기화\r\n",
        "array3 = np.ones((3, 3), dtype = str)\r\n",
        "print(array3)\r\n",
        "\r\n",
        "#0부터 9까지 랜덤하게 초기화된 배열 만들기\r\n",
        "array4 = np.random.randint(0, 10, (3, 3))\r\n",
        "print(array4)\r\n",
        "\r\n",
        "#평균이 0이고 표준편차가 1인 표준 정규를 띄는 배열\r\n",
        "array5 = np.random.normal(0, 1, (3, 3))\r\n",
        "print(array5)"
      ],
      "execution_count": 4,
      "outputs": [
        {
          "output_type": "stream",
          "text": [
            "[0 1 2 3]\n",
            "[[0. 0. 0. 0.]\n",
            " [0. 0. 0. 0.]\n",
            " [0. 0. 0. 0.]\n",
            " [0. 0. 0. 0.]]\n",
            "[['1' '1' '1']\n",
            " ['1' '1' '1']\n",
            " ['1' '1' '1']]\n",
            "[[4 7 6]\n",
            " [4 8 7]\n",
            " [3 9 7]]\n",
            "[[ 0.84377664  0.52552309 -0.22351411]\n",
            " [ 0.61645865  0.43928408  0.04441804]\n",
            " [ 1.22231377  0.84850922 -0.07125703]]\n"
          ],
          "name": "stdout"
        }
      ]
    },
    {
      "cell_type": "code",
      "metadata": {
        "colab": {
          "base_uri": "https://localhost:8080/"
        },
        "id": "naDh0c_y2yk0",
        "outputId": "18892f48-d90c-470b-e44e-a0cba2bfe0f2"
      },
      "source": [
        "import numpy as np\r\n",
        "\r\n",
        "array1 = np.array([1, 2, 3])\r\n",
        "array2 = np.array([4, 5, 6])\r\n",
        "array3 = np.concatenate([array1, array2])\r\n",
        "\r\n",
        "print(array3.shape)\r\n",
        "print(array3)"
      ],
      "execution_count": 6,
      "outputs": [
        {
          "output_type": "stream",
          "text": [
            "(6,)\n",
            "[1 2 3 4 5 6]\n"
          ],
          "name": "stdout"
        }
      ]
    },
    {
      "cell_type": "code",
      "metadata": {
        "colab": {
          "base_uri": "https://localhost:8080/"
        },
        "id": "AKB_j133421w",
        "outputId": "2c303fbe-38c1-4b3b-e519-f8a3f3fcd657"
      },
      "source": [
        "array1 = np.array([1, 2, 3, 4])\r\n",
        "array2 = array1.reshape(2, 2) #2x2 형태의 배열로 바꾸기\r\n",
        "\r\n",
        "print(array2.shape)"
      ],
      "execution_count": 8,
      "outputs": [
        {
          "output_type": "stream",
          "text": [
            "(2, 2)\n"
          ],
          "name": "stdout"
        }
      ]
    },
    {
      "cell_type": "code",
      "metadata": {
        "colab": {
          "base_uri": "https://localhost:8080/"
        },
        "id": "jGtu1aLh6IcB",
        "outputId": "4bd9ce9d-2074-476a-f50c-9a4921311157"
      },
      "source": [
        "array1 = np.arange(4).reshape(1, 4)\r\n",
        "array2 = np.arange(8).reshape(2, 4)\r\n",
        "\r\n",
        "array3 = np.concatenate([array1, array2], axis = 0)\r\n",
        "print(array3)\r\n",
        "print(array3.shape)"
      ],
      "execution_count": 11,
      "outputs": [
        {
          "output_type": "stream",
          "text": [
            "[[0 1 2 3]\n",
            " [0 1 2 3]\n",
            " [4 5 6 7]]\n",
            "(3, 4)\n"
          ],
          "name": "stdout"
        }
      ]
    },
    {
      "cell_type": "code",
      "metadata": {
        "colab": {
          "base_uri": "https://localhost:8080/"
        },
        "id": "l7rO6Vjz5RV5",
        "outputId": "c0852b89-5b3a-4280-9ea8-7f3a916164fc"
      },
      "source": [
        "array = np.arange(8).reshape(2, 4)\r\n",
        "left, right = np.split(array, [1], axis = 1)\r\n",
        "\r\n",
        "print(array)\r\n",
        "print(left) #왼쪽 부분\r\n",
        "print(right) #오른쪽 부분\r\n",
        "\r\n",
        "print(left.shape)\r\n",
        "print(right.shape)\r\n",
        "print(right[1][1])"
      ],
      "execution_count": 20,
      "outputs": [
        {
          "output_type": "stream",
          "text": [
            "[[0 1 2 3]\n",
            " [4 5 6 7]]\n",
            "[[0]\n",
            " [4]]\n",
            "[[1 2 3]\n",
            " [5 6 7]]\n",
            "(2, 1)\n",
            "(2, 3)\n",
            "6\n"
          ],
          "name": "stdout"
        }
      ]
    },
    {
      "cell_type": "code",
      "metadata": {
        "id": "A9jVebrV6CPe"
      },
      "source": [
        ""
      ],
      "execution_count": null,
      "outputs": []
    }
  ]
}
