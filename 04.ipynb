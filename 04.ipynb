{
  "nbformat": 4,
  "nbformat_minor": 0,
  "metadata": {
    "colab": {
      "name": "04.ipynb",
      "provenance": [],
      "authorship_tag": "ABX9TyMaWgQU7SHumoyThjhp4D+e",
      "include_colab_link": true
    },
    "kernelspec": {
      "name": "python3",
      "display_name": "Python 3"
    }
  },
  "cells": [
    {
      "cell_type": "markdown",
      "metadata": {
        "id": "view-in-github",
        "colab_type": "text"
      },
      "source": [
        "<a href=\"https://colab.research.google.com/github/Cl8D/Python-Data-Analysis-Image-Processing/blob/main/04.ipynb\" target=\"_parent\"><img src=\"https://colab.research.google.com/assets/colab-badge.svg\" alt=\"Open In Colab\"/></a>"
      ]
    },
    {
      "cell_type": "markdown",
      "metadata": {
        "id": "nasAYO_hA5hF"
      },
      "source": [
        "# **04강. Numpy의 연산과 함수**"
      ]
    },
    {
      "cell_type": "code",
      "metadata": {
        "colab": {
          "base_uri": "https://localhost:8080/"
        },
        "id": "sD9fDfQbAzPi",
        "outputId": "310e3952-8006-4498-ba55-664606b5cc45"
      },
      "source": [
        "import numpy as np\r\n",
        "\r\n",
        "array = np.random.randint(1, 10, size=4).reshape(2, 2)\r\n",
        "print(array)\r\n",
        "print(\"--\")\r\n",
        "result_array = array * 10\r\n",
        "print(result_array)"
      ],
      "execution_count": 4,
      "outputs": [
        {
          "output_type": "stream",
          "text": [
            "[[2 7]\n",
            " [7 1]]\n",
            "--\n",
            "[[20 70]\n",
            " [70 10]]\n"
          ],
          "name": "stdout"
        }
      ]
    },
    {
      "cell_type": "code",
      "metadata": {
        "colab": {
          "base_uri": "https://localhost:8080/"
        },
        "id": "LELsBNJTBQOR",
        "outputId": "b33e9440-dbdd-459f-f990-9ea4d69aa890"
      },
      "source": [
        "import numpy as np\r\n",
        "\r\n",
        "array1 = np.arange(4).reshape(2, 2)\r\n",
        "print(array1)\r\n",
        "print(\"--\")\r\n",
        "array2 = np.arange(2)\r\n",
        "print(array2)\r\n",
        "print(\"--\")\r\n",
        "array3 = array1 + array2\r\n",
        "\r\n",
        "print(array3)"
      ],
      "execution_count": 5,
      "outputs": [
        {
          "output_type": "stream",
          "text": [
            "[[0 1]\n",
            " [2 3]]\n",
            "--\n",
            "[0 1]\n",
            "--\n",
            "[[0 2]\n",
            " [2 4]]\n"
          ],
          "name": "stdout"
        }
      ]
    },
    {
      "cell_type": "code",
      "metadata": {
        "colab": {
          "base_uri": "https://localhost:8080/"
        },
        "id": "4AF065WnBz4A",
        "outputId": "628e7405-2720-4803-f6d6-aa07c726c3f4"
      },
      "source": [
        "import numpy as np\r\n",
        "\r\n",
        "array1 = np.arange(0, 8).reshape(2, 4)\r\n",
        "print(array1)\r\n",
        "print(\"--\")\r\n",
        "array2 = np.arange(0, 8).reshape(2, 4)\r\n",
        "print(array2)\r\n",
        "print(\"--\")\r\n",
        "array3 = np.concatenate([array1, array2], axis=0) #위, 아래로 합치기\r\n",
        "print(array3)\r\n",
        "print(\"--\")\r\n",
        "array4 = np.arange(0, 4).reshape(4, 1)\r\n",
        "print(array4)\r\n",
        "print(\"--\")\r\n",
        "\r\n",
        "print(array3 + array4)"
      ],
      "execution_count": 6,
      "outputs": [
        {
          "output_type": "stream",
          "text": [
            "[[0 1 2 3]\n",
            " [4 5 6 7]]\n",
            "--\n",
            "[[0 1 2 3]\n",
            " [4 5 6 7]]\n",
            "--\n",
            "[[0 1 2 3]\n",
            " [4 5 6 7]\n",
            " [0 1 2 3]\n",
            " [4 5 6 7]]\n",
            "--\n",
            "[[0]\n",
            " [1]\n",
            " [2]\n",
            " [3]]\n",
            "--\n",
            "[[ 0  1  2  3]\n",
            " [ 5  6  7  8]\n",
            " [ 2  3  4  5]\n",
            " [ 7  8  9 10]]\n"
          ],
          "name": "stdout"
        }
      ]
    },
    {
      "cell_type": "code",
      "metadata": {
        "colab": {
          "base_uri": "https://localhost:8080/"
        },
        "id": "QIoFdFzNCWBw",
        "outputId": "eb85529e-a300-495d-ccad-4274feeb48ae"
      },
      "source": [
        "import numpy as np\r\n",
        "\r\n",
        "# 반복문을 이용할 때보다 매우 빠름.\r\n",
        "# 이미지 처리(Image Processing)에서 자주 활용\r\n",
        "array1 = np.arange(16).reshape(4, 4)\r\n",
        "print(array1)\r\n",
        "print(\"--\")\r\n",
        "array2 = array1 < 10\r\n",
        "print(array2)\r\n",
        "print(\"--\")\r\n",
        "array1[array2] = 100 #조건에 만족하는 데이터(True)만 100으로 바꾸는 것을 처리. \r\n",
        "print(array1)"
      ],
      "execution_count": 7,
      "outputs": [
        {
          "output_type": "stream",
          "text": [
            "[[ 0  1  2  3]\n",
            " [ 4  5  6  7]\n",
            " [ 8  9 10 11]\n",
            " [12 13 14 15]]\n",
            "--\n",
            "[[ True  True  True  True]\n",
            " [ True  True  True  True]\n",
            " [ True  True False False]\n",
            " [False False False False]]\n",
            "--\n",
            "[[100 100 100 100]\n",
            " [100 100 100 100]\n",
            " [100 100  10  11]\n",
            " [ 12  13  14  15]]\n"
          ],
          "name": "stdout"
        }
      ]
    },
    {
      "cell_type": "code",
      "metadata": {
        "colab": {
          "base_uri": "https://localhost:8080/"
        },
        "id": "GRST6mJ8C0PU",
        "outputId": "d1893521-4b4a-4214-eccb-a799c70aa29c"
      },
      "source": [
        "import numpy as np\r\n",
        "\r\n",
        "array = np.arange(16).reshape(4, 4)\r\n",
        "\r\n",
        "print(\"최대값:\", np.max(array))\r\n",
        "print(\"최소값:\", np.min(array))\r\n",
        "print(\"합계:\", np.sum(array))\r\n",
        "print(\"평균값:\", np.mean(array))"
      ],
      "execution_count": 8,
      "outputs": [
        {
          "output_type": "stream",
          "text": [
            "최대값: 15\n",
            "최소값: 0\n",
            "합계: 120\n",
            "평균값: 7.5\n"
          ],
          "name": "stdout"
        }
      ]
    },
    {
      "cell_type": "code",
      "metadata": {
        "colab": {
          "base_uri": "https://localhost:8080/"
        },
        "id": "5kdVA62EDPix",
        "outputId": "a84df677-bce6-40e0-ad37-cd988cec9f44"
      },
      "source": [
        "import numpy as np\r\n",
        "\r\n",
        "array = np.arange(16).reshape(4, 4)\r\n",
        "\r\n",
        "print(array)\r\n",
        "print(\"합계:\", np.sum(array, axis=0)) #행방향으로 합치기"
      ],
      "execution_count": 9,
      "outputs": [
        {
          "output_type": "stream",
          "text": [
            "[[ 0  1  2  3]\n",
            " [ 4  5  6  7]\n",
            " [ 8  9 10 11]\n",
            " [12 13 14 15]]\n",
            "합계: [24 28 32 36]\n"
          ],
          "name": "stdout"
        }
      ]
    },
    {
      "cell_type": "code",
      "metadata": {
        "id": "T1hMdXnHDfeg"
      },
      "source": [
        ""
      ],
      "execution_count": null,
      "outputs": []
    }
  ]
}