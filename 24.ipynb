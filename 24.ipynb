{
  "nbformat": 4,
  "nbformat_minor": 0,
  "metadata": {
    "colab": {
      "name": "24.ipynb",
      "provenance": [],
      "authorship_tag": "ABX9TyP8H5QcqCRXi4Bgpn2GOEtZ",
      "include_colab_link": true
    },
    "kernelspec": {
      "name": "python3",
      "display_name": "Python 3"
    }
  },
  "cells": [
    {
      "cell_type": "markdown",
      "metadata": {
        "id": "view-in-github",
        "colab_type": "text"
      },
      "source": [
        "<a href=\"https://colab.research.google.com/github/Cl8D/Python-Data-Analysis-Image-Processing/blob/main/24.ipynb\" target=\"_parent\"><img src=\"https://colab.research.google.com/assets/colab-badge.svg\" alt=\"Open In Colab\"/></a>"
      ]
    },
    {
      "cell_type": "markdown",
      "metadata": {
        "id": "NbN8rtaR-VFg"
      },
      "source": [
        "# **24강. Pandas의 연산과 함수**"
      ]
    },
    {
      "cell_type": "code",
      "metadata": {
        "colab": {
          "base_uri": "https://localhost:8080/"
        },
        "id": "K2YWtLPn-Rzp",
        "outputId": "22bdd424-1d97-4183-d2ca-d9b175526948"
      },
      "source": [
        "import pandas as pd\r\n",
        "import numpy as np\r\n",
        "\r\n",
        "word_dict = {\r\n",
        "    'Apple': '사과',\r\n",
        "    'Banana': '바나나',\r\n",
        "    'Carrot': '당근',\r\n",
        "    'Durian': '두리안'\r\n",
        "}\r\n",
        "\r\n",
        "frequency_dict = {\r\n",
        "    'Apple': 3,\r\n",
        "    'Banana': 5,\r\n",
        "    'Carrot': np.nan, #null을 np.nan으로 표현!\r\n",
        "    'Durian': 2\r\n",
        "}\r\n",
        "\r\n",
        "importance_dict = {\r\n",
        "    'Apple': 3,\r\n",
        "    'Banana': 2,\r\n",
        "    'Carrot': 1,\r\n",
        "    'Durian': 1\r\n",
        "}\r\n",
        "\r\n",
        "word = pd.Series(word_dict)\r\n",
        "frequency = pd.Series(frequency_dict)\r\n",
        "importance = pd.Series(importance_dict)\r\n",
        "\r\n",
        "summary = pd.DataFrame({\r\n",
        "    'word': word,\r\n",
        "    'frequency': frequency,\r\n",
        "    'importance': importance\r\n",
        "})\r\n",
        "\r\n",
        "print(summary)\r\n",
        "print(summary.notnull()) #각각의 데이터 중 null 값이 아닌 것만 True\r\n",
        "print(summary.isnull()) #데이터 중에서 null 값인 것만 True\r\n",
        "summary['frequency'] = summary['frequency'].fillna('데이터 없음') #데이터 채우기\r\n",
        "print(summary)"
      ],
      "execution_count": 2,
      "outputs": [
        {
          "output_type": "stream",
          "text": [
            "       word  frequency  importance\n",
            "Apple    사과        3.0           3\n",
            "Banana  바나나        5.0           2\n",
            "Carrot   당근        NaN           1\n",
            "Durian  두리안        2.0           1\n",
            "        word  frequency  importance\n",
            "Apple   True       True        True\n",
            "Banana  True       True        True\n",
            "Carrot  True      False        True\n",
            "Durian  True       True        True\n",
            "         word  frequency  importance\n",
            "Apple   False      False       False\n",
            "Banana  False      False       False\n",
            "Carrot  False       True       False\n",
            "Durian  False      False       False\n",
            "       word frequency  importance\n",
            "Apple    사과         3           3\n",
            "Banana  바나나         5           2\n",
            "Carrot   당근    데이터 없음           1\n",
            "Durian  두리안         2           1\n"
          ],
          "name": "stdout"
        }
      ]
    },
    {
      "cell_type": "code",
      "metadata": {
        "colab": {
          "base_uri": "https://localhost:8080/"
        },
        "id": "XHhXNUCtBGnA",
        "outputId": "3770fdd4-dfb9-43ef-9c6e-74258acc97f2"
      },
      "source": [
        "import pandas as pd\r\n",
        "\r\n",
        "array1 = pd.Series([1, 2, 3], index=['A', 'B', 'C'])\r\n",
        "array2 = pd.Series([4, 5, 6], index=['B', 'C', 'D'])\r\n",
        "\r\n",
        "print(array1)\r\n",
        "print(array2)\r\n",
        "\r\n",
        "array = array1.add(array2, fill_value=0) \r\n",
        "print(array)"
      ],
      "execution_count": 3,
      "outputs": [
        {
          "output_type": "stream",
          "text": [
            "A    1\n",
            "B    2\n",
            "C    3\n",
            "dtype: int64\n",
            "B    4\n",
            "C    5\n",
            "D    6\n",
            "dtype: int64\n",
            "A    1.0\n",
            "B    6.0\n",
            "C    8.0\n",
            "D    6.0\n",
            "dtype: float64\n"
          ],
          "name": "stdout"
        }
      ]
    },
    {
      "cell_type": "code",
      "metadata": {
        "colab": {
          "base_uri": "https://localhost:8080/"
        },
        "id": "j_15_YmUEY4d",
        "outputId": "b1318942-0240-40b5-a481-58c7f57cee68"
      },
      "source": [
        "import pandas as pd\r\n",
        "\r\n",
        "array1 = pd.DataFrame([[1, 2], [3, 4]], index=['A', 'B'])\r\n",
        "array2 = pd.DataFrame([[1, 2, 3], [4, 5, 6], [7, 8, 9]], index=['B', 'C', 'D'])\r\n",
        "\r\n",
        "print(array1)\r\n",
        "print(array2)\r\n",
        "\r\n",
        "array = array1.add(array2, fill_value=0)\r\n",
        "print(array)"
      ],
      "execution_count": 4,
      "outputs": [
        {
          "output_type": "stream",
          "text": [
            "   0  1\n",
            "A  1  2\n",
            "B  3  4\n",
            "   0  1  2\n",
            "B  1  2  3\n",
            "C  4  5  6\n",
            "D  7  8  9\n",
            "     0    1    2\n",
            "A  1.0  2.0  NaN\n",
            "B  4.0  6.0  3.0\n",
            "C  4.0  5.0  6.0\n",
            "D  7.0  8.0  9.0\n"
          ],
          "name": "stdout"
        }
      ]
    },
    {
      "cell_type": "code",
      "metadata": {
        "colab": {
          "base_uri": "https://localhost:8080/"
        },
        "id": "cioQbFNnGJKN",
        "outputId": "babc5659-294b-4b62-de84-f04f741f46f1"
      },
      "source": [
        "import pandas as pd\r\n",
        "\r\n",
        "array1 = pd.DataFrame([[1, 2], [3, 4]], index=['A', 'B'])\r\n",
        "array2 = pd.DataFrame([[1, 2, 3], [4, 5, 6], [7, 8, 9]], index=['B', 'C', 'D'])\r\n",
        "\r\n",
        "array = array1.add(array2, fill_value=0)\r\n",
        "print(array)\r\n",
        "print(\"컬럼 1의 합:\", array[1].sum()) #1열에 해당하는 합만 출력하기\r\n",
        "print(array.sum()) #모든 시리즈에 대한 합 출력하기"
      ],
      "execution_count": 7,
      "outputs": [
        {
          "output_type": "stream",
          "text": [
            "     0    1    2\n",
            "A  1.0  2.0  NaN\n",
            "B  4.0  6.0  3.0\n",
            "C  4.0  5.0  6.0\n",
            "D  7.0  8.0  9.0\n",
            "컬럼 1의 합: 21.0\n",
            "0    16.0\n",
            "1    21.0\n",
            "2    18.0\n",
            "dtype: float64\n"
          ],
          "name": "stdout"
        }
      ]
    },
    {
      "cell_type": "code",
      "metadata": {
        "colab": {
          "base_uri": "https://localhost:8080/"
        },
        "id": "6jxZjhmhH0DF",
        "outputId": "789395f2-46ec-43a6-a104-f08928975ae2"
      },
      "source": [
        "import pandas as pd\r\n",
        "import numpy as np\r\n",
        "\r\n",
        "word_dict = {\r\n",
        "    'Apple': '사과',\r\n",
        "    'Banana': '바나나',\r\n",
        "    'Carrot': '당근',\r\n",
        "    'Durian': '두리안'\r\n",
        "}\r\n",
        "\r\n",
        "frequency_dict = {\r\n",
        "    'Apple': 3,\r\n",
        "    'Banana': 5,\r\n",
        "    'Carrot': 1,\r\n",
        "    'Durian': 2\r\n",
        "}\r\n",
        "\r\n",
        "importance_dict = {\r\n",
        "    'Apple': 3,\r\n",
        "    'Banana': 2,\r\n",
        "    'Carrot': 1,\r\n",
        "    'Durian': 1\r\n",
        "}\r\n",
        "\r\n",
        "word = pd.Series(word_dict)\r\n",
        "frequency = pd.Series(frequency_dict)\r\n",
        "importance = pd.Series(importance_dict)\r\n",
        "\r\n",
        "summary = pd.DataFrame({\r\n",
        "    'word': word,\r\n",
        "    'frequency': frequency,\r\n",
        "    'importance': importance\r\n",
        "})\r\n",
        "\r\n",
        "print(summary)\r\n",
        "# frequency를 기준으로 내림차순 정렬하기\r\n",
        "summary = summary.sort_values('frequency', ascending=False)\r\n",
        "print(summary)"
      ],
      "execution_count": 8,
      "outputs": [
        {
          "output_type": "stream",
          "text": [
            "       word  frequency  importance\n",
            "Apple    사과          3           3\n",
            "Banana  바나나          5           2\n",
            "Carrot   당근          1           1\n",
            "Durian  두리안          2           1\n",
            "       word  frequency  importance\n",
            "Banana  바나나          5           2\n",
            "Apple    사과          3           3\n",
            "Durian  두리안          2           1\n",
            "Carrot   당근          1           1\n"
          ],
          "name": "stdout"
        }
      ]
    },
    {
      "cell_type": "code",
      "metadata": {
        "id": "Ak8GRdohH1YR"
      },
      "source": [
        ""
      ],
      "execution_count": null,
      "outputs": []
    }
  ]
}