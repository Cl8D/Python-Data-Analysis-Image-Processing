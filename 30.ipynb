{
  "nbformat": 4,
  "nbformat_minor": 0,
  "metadata": {
    "colab": {
      "name": "30.ipynb",
      "provenance": [],
      "authorship_tag": "ABX9TyPIzfj1PXDgfroYtGClbgex",
      "include_colab_link": true
    },
    "kernelspec": {
      "name": "python3",
      "display_name": "Python 3"
    }
  },
  "cells": [
    {
      "cell_type": "markdown",
      "metadata": {
        "id": "view-in-github",
        "colab_type": "text"
      },
      "source": [
        "<a href=\"https://colab.research.google.com/github/Cl8D/Python-Data-Analysis-Image-Processing/blob/main/30.ipynb\" target=\"_parent\"><img src=\"https://colab.research.google.com/assets/colab-badge.svg\" alt=\"Open In Colab\"/></a>"
      ]
    },
    {
      "cell_type": "markdown",
      "metadata": {
        "id": "zkcr7eLY6lUP"
      },
      "source": [
        "# **30강. 네이버 영화 리뷰 데이터 분석 2**"
      ]
    },
    {
      "cell_type": "code",
      "metadata": {
        "id": "D732X6c4582E"
      },
      "source": [
        "import urllib.request\r\n",
        "from bs4 import BeautifulSoup\r\n",
        "\r\n",
        "class Review:\r\n",
        "  def __init__(self, comment, date, star, good, bad):\r\n",
        "    # 리뷰 댓글\r\n",
        "    self.comment = comment\r\n",
        "    # 리뷰가 작성된 날짜\r\n",
        "    self.date = date\r\n",
        "    # 리뷰의 별점\r\n",
        "    self.star = star\r\n",
        "    # 사람들이 해당 리뷰에 대해 좋아요를 누른 수\r\n",
        "    self.good = good\r\n",
        "    # 사람들이 해당 리뷰에 대해 싫어요를 누른 수\r\n",
        "    self.bad = bad\r\n",
        "\r\n",
        "  def show(self):\r\n",
        "    print(\"내용: \" + self.comment +\r\n",
        "          \"\\n날짜: \" + self.date +\r\n",
        "          \"\\n별점: \" + self.star +\r\n",
        "          \"\\n좋아요: \" + self.good +\r\n",
        "          \"\\n싫어요: \" + self.bad)"
      ],
      "execution_count": 4,
      "outputs": []
    },
    {
      "cell_type": "code",
      "metadata": {
        "id": "NMnt9wxH6vNi"
      },
      "source": [
        "def crawl(url):\r\n",
        "  # 특정한 영화 정보의 url을 입력하면 파싱이 진행된다.\r\n",
        "  soup = BeautifulSoup(urllib.request.urlopen(url).read(), \"html.parser\")\r\n",
        "  # 리뷰 정보를 담는 리스트\r\n",
        "  review_list = []\r\n",
        "  \r\n",
        "  # h_movie인 클래스의 h3 태그에 포함되어 있는 <a> 태그의 텍스트 값을 가져오기\r\n",
        "  title = soup.find('h3', class_='h_movie').find('a').text\r\n",
        "  # 실제 리뷰에 대한 정보를 가져오기. score_result 클래스의 <div> 태그\r\n",
        "  div = soup.find(\"div\", class_=\"score_result\")\r\n",
        "  # ul 태그에 있는 li 태그를 확인한다.\r\n",
        "  data_list = div.select(\"ul > li\")\r\n",
        "  \r\n",
        "  for review in data_list:\r\n",
        "    # 별점\r\n",
        "    star = review.find(\"div\", class_=\"star_score\").text.strip()\r\n",
        "    # 리뷰 \r\n",
        "    reply = review.find(\"div\", class_=\"score_reple\")\r\n",
        "    comment = reply.find(\"p\").text.strip()\r\n",
        "\r\n",
        "    # dt 태그 중에 두 번째 요소에 실제 날짜가 담겨있는 걸 확인할 수 있다.\r\n",
        "    date = reply.select(\"dt > em\")[1].text.strip()\r\n",
        "    # 버튼\r\n",
        "    button = review.find(\"div\", class_=\"btn_area\")\r\n",
        "    sympathy = button.select(\"a > strong\")\r\n",
        "\r\n",
        "    # 좋아요\r\n",
        "    good = sympathy[0].text\r\n",
        "    # 싫어요\r\n",
        "    bad = sympathy[1].text\r\n",
        "    review_list.append(Review(comment, date, star, good, bad))\r\n",
        "\r\n",
        "  return title, review_list"
      ],
      "execution_count": 5,
      "outputs": []
    },
    {
      "cell_type": "code",
      "metadata": {
        "id": "0GR4i5ub6ydD"
      },
      "source": [
        "import pandas as pd\r\n",
        "\r\n",
        "def get_summary(review_list):\r\n",
        "  # 별점 리스트\r\n",
        "  star_list = []\r\n",
        "  # 좋아요 리스트\r\n",
        "  good_list = []\r\n",
        "  # 싫어요 리스트\r\n",
        "  bad_list = []\r\n",
        "  \r\n",
        "  for review in review_list:\r\n",
        "    star_list.append(int(review.star))\r\n",
        "    good_list.append(int(review.good))\r\n",
        "    bad_list.append(int(review.bad))\r\n",
        "    \r\n",
        "  star_series = pd.Series(star_list)\r\n",
        "  good_series = pd.Series(good_list)\r\n",
        "  bad_series = pd.Series(bad_list)\r\n",
        "  \r\n",
        "  summary = pd.DataFrame({\r\n",
        "      'Star': star_series,\r\n",
        "      'Good': good_series,\r\n",
        "      'Bad': bad_series,\r\n",
        "      # 전체 중에서 좋아요의 비율을 나타내는 score \r\n",
        "      'Score': good_series / (good_series + bad_series)\r\n",
        "  })\r\n",
        "  \r\n",
        "  return summary"
      ],
      "execution_count": 6,
      "outputs": []
    },
    {
      "cell_type": "code",
      "metadata": {
        "colab": {
          "base_uri": "https://localhost:8080/"
        },
        "id": "EKbgrd5-60LY",
        "outputId": "18fb8725-5045-4503-bf7d-57b754b5b281"
      },
      "source": [
        "# 5개의 영화 정보에 대한 크롤링을 시작한다.\r\n",
        "movie_code_list = [136900, 167657, 174321, 184859, 167391]\r\n",
        "review_lists = []\r\n",
        "\r\n",
        "for i in movie_code_list:\r\n",
        "  title, review_list = crawl(\"https://movie.naver.com/movie/bi/mi/basic.nhn?code=\" + str(i))\r\n",
        "  summary = get_summary(review_list)\r\n",
        "  print(\"[ %s ]\" % (title))\r\n",
        "  print(summary)\r\n",
        "  review_lists.append((title, review_list))"
      ],
      "execution_count": 7,
      "outputs": [
        {
          "output_type": "stream",
          "text": [
            "[ 어벤져스: 엔드게임 ]\n",
            "   Star   Good  Bad     Score\n",
            "0    10  23718  663  0.972807\n",
            "1    10  15708  442  0.972632\n",
            "2    10  15312  473  0.970035\n",
            "3    10  13697  560  0.960721\n",
            "4    10  11862  436  0.964547\n",
            "[ 명탐정 피카츄 ]\n",
            "   Star  Good  Bad     Score\n",
            "0    10  1964  105  0.949251\n",
            "1    10   987   85  0.920709\n",
            "2    10   910   78  0.921053\n",
            "3     8   957  283  0.771774\n",
            "4     8   633   43  0.936391\n",
            "[ 고양이 여행 리포트 ]\n",
            "   Star  Good  Bad     Score\n",
            "0    10    76    5  0.938272\n",
            "1    10    45    3  0.937500\n",
            "2    10    36    4  0.900000\n",
            "3    10    32    2  0.941176\n",
            "4     6    53   25  0.679487\n",
            "[ 물의 기억 ]\n",
            "   Star  Good  Bad     Score\n",
            "0    10    28   11  0.717949\n",
            "1    10    26   11  0.702703\n",
            "2    10    23   10  0.696970\n",
            "3    10    18    6  0.750000\n",
            "4    10    21    9  0.700000\n",
            "[ 더 캡틴 ]\n",
            "   Star  Good  Bad     Score\n",
            "0     9    88   12  0.880000\n",
            "1    10    47    5  0.903846\n",
            "2    10    48    7  0.872727\n",
            "3     8    42    6  0.875000\n",
            "4     8    30    0  1.000000\n"
          ],
          "name": "stdout"
        }
      ]
    },
    {
      "cell_type": "code",
      "metadata": {
        "colab": {
          "base_uri": "https://localhost:8080/"
        },
        "id": "sLGw9UZZ62Tl",
        "outputId": "cbd80f09-efe2-4ed4-f036-abf7b6dd60ab"
      },
      "source": [
        "!apt-get update -qq\r\n",
        "!apt-get install fonts-nanum* -qq"
      ],
      "execution_count": 8,
      "outputs": [
        {
          "output_type": "stream",
          "text": [
            "Selecting previously unselected package fonts-nanum.\n",
            "(Reading database ... 149406 files and directories currently installed.)\n",
            "Preparing to unpack .../fonts-nanum_20170925-1_all.deb ...\n",
            "Unpacking fonts-nanum (20170925-1) ...\n",
            "Selecting previously unselected package fonts-nanum-eco.\n",
            "Preparing to unpack .../fonts-nanum-eco_1.000-6_all.deb ...\n",
            "Unpacking fonts-nanum-eco (1.000-6) ...\n",
            "Selecting previously unselected package fonts-nanum-extra.\n",
            "Preparing to unpack .../fonts-nanum-extra_20170925-1_all.deb ...\n",
            "Unpacking fonts-nanum-extra (20170925-1) ...\n",
            "Selecting previously unselected package fonts-nanum-coding.\n",
            "Preparing to unpack .../fonts-nanum-coding_2.5-1_all.deb ...\n",
            "Unpacking fonts-nanum-coding (2.5-1) ...\n",
            "Setting up fonts-nanum-extra (20170925-1) ...\n",
            "Setting up fonts-nanum (20170925-1) ...\n",
            "Setting up fonts-nanum-coding (2.5-1) ...\n",
            "Setting up fonts-nanum-eco (1.000-6) ...\n",
            "Processing triggers for fontconfig (2.12.6-0ubuntu2) ...\n"
          ],
          "name": "stdout"
        }
      ]
    },
    {
      "cell_type": "code",
      "metadata": {
        "colab": {
          "base_uri": "https://localhost:8080/",
          "height": 310
        },
        "id": "GOvXSbfk63gT",
        "outputId": "aa7c2280-3b72-4845-b7aa-1a7904ad3d96"
      },
      "source": [
        "import matplotlib\r\n",
        "import matplotlib.pyplot as plt\r\n",
        "import matplotlib.font_manager as fm\r\n",
        "\r\n",
        "font_path = '/usr/share/fonts/truetype/nanum/NanumBarunGothic.ttf'\r\n",
        "# fontproperties 객체를 이용해서 matlablib에 폰트를 적용시킬 수 있다.\r\n",
        "fontprop = fm.FontProperties(fname=font_path, size=18)\r\n",
        "\r\n",
        "def movie_compare(review_lists):\r\n",
        "  count = 1\r\n",
        "  x = []\r\n",
        "  y = []\r\n",
        "  for movie, review_list in review_lists:\r\n",
        "    x.append(count)\r\n",
        "    summary = get_summary(review_list)\r\n",
        "    # score가 0.8보다 큰 경우, 즉 신뢰할 수 있는 리뷰에 대해서만!\r\n",
        "    summary = summary[summary['Score'] > 0.8]\r\n",
        "    # 별점의 평균을 내준다.\r\n",
        "    y.append(summary['Star'].mean())\r\n",
        "    count += 1\r\n",
        "  plt.bar(x, y)\r\n",
        "  plt.title('영화 별점 비교', fontproperties=fontprop)\r\n",
        "  plt.xlabel('영화 번호', fontproperties=fontprop)\r\n",
        "  plt.ylabel('신뢰성 별점 평균', fontproperties=fontprop)\r\n",
        "  plt.show()\r\n",
        "  \r\n",
        "movie_compare(review_lists)"
      ],
      "execution_count": 10,
      "outputs": [
        {
          "output_type": "display_data",
          "data": {
            "image/png": "[encoded data removed]",
            "text/plain": [
              "<Figure size 432x288 with 1 Axes>"
            ]
          },
          "metadata": {
            "tags": [],
            "needs_background": "light"
          }
        }
      ]
    },
    {
      "cell_type": "code",
      "metadata": {
        "id": "z3BQ8BwXVY2u"
      },
      "source": [
        ""
      ],
      "execution_count": null,
      "outputs": []
    }
  ]
}