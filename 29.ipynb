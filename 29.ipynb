{
  "nbformat": 4,
  "nbformat_minor": 0,
  "metadata": {
    "colab": {
      "name": "29.ipynb",
      "provenance": [],
      "authorship_tag": "ABX9TyM8BMD92fv5SriJPv1EpkRa",
      "include_colab_link": true
    },
    "kernelspec": {
      "name": "python3",
      "display_name": "Python 3"
    }
  },
  "cells": [
    {
      "cell_type": "markdown",
      "metadata": {
        "id": "view-in-github",
        "colab_type": "text"
      },
      "source": [
        "<a href=\"https://colab.research.google.com/github/Cl8D/Python-Data-Analysis-Image-Processing/blob/main/29.ipynb\" target=\"_parent\"><img src=\"https://colab.research.google.com/assets/colab-badge.svg\" alt=\"Open In Colab\"/></a>"
      ]
    },
    {
      "cell_type": "markdown",
      "metadata": {
        "id": "VKAAAKVGEh3m"
      },
      "source": [
        "# **29강. 네이버 영화 리뷰 데이터 분석 1**"
      ]
    },
    {
      "cell_type": "code",
      "metadata": {
        "id": "LzEzDg39EgwA"
      },
      "source": [
        "import urllib.request\r\n",
        "from bs4 import BeautifulSoup\r\n",
        "\r\n",
        "class Review:\r\n",
        "  def __init__(self, comment, date, star, good, bad):\r\n",
        "    # 리뷰 댓글\r\n",
        "    self.comment = comment\r\n",
        "    # 리뷰가 작성된 날짜\r\n",
        "    self.date = date\r\n",
        "    # 리뷰의 별점\r\n",
        "    self.star = star\r\n",
        "    # 사람들이 해당 리뷰에 대해 좋아요를 누른 수\r\n",
        "    self.good = good\r\n",
        "    # 사람들이 해당 리뷰에 대해 싫어요를 누른 수\r\n",
        "    self.bad = bad\r\n",
        "\r\n",
        "  def show(self):\r\n",
        "    print(\"내용: \" + self.comment +\r\n",
        "          \"\\n날짜: \" + self.date +\r\n",
        "          \"\\n별점: \" + self.star +\r\n",
        "          \"\\n좋아요: \" + self.good +\r\n",
        "          \"\\n싫어요: \" + self.bad)"
      ],
      "execution_count": null,
      "outputs": []
    },
    {
      "cell_type": "code",
      "metadata": {
        "id": "JDep6ngpF_-o"
      },
      "source": [
        "def crawl(url):\r\n",
        "  # 특정한 영화 정보의 url을 입력하면 파싱이 진행된다.\r\n",
        "  soup = BeautifulSoup(urllib.request.urlopen(url).read(), \"html.parser\")\r\n",
        "  # 리뷰 정보를 담는 리스트\r\n",
        "  review_list = []\r\n",
        "  \r\n",
        "  # h_movie인 클래스의 h3 태그에 포함되어 있는 <a> 태그의 텍스트 값을 가져오기\r\n",
        "  title = soup.find('h3', class_='h_movie').find('a').text\r\n",
        "  # 실제 리뷰에 대한 정보를 가져오기. score_result 클래스의 <div> 태그\r\n",
        "  div = soup.find(\"div\", class_=\"score_result\")\r\n",
        "  # ul 태그에 있는 li 태그를 확인한다.\r\n",
        "  data_list = div.select(\"ul > li\")\r\n",
        "  \r\n",
        "  for review in data_list:\r\n",
        "    # 별점\r\n",
        "    star = review.find(\"div\", class_=\"star_score\").text.strip()\r\n",
        "    # 리뷰 \r\n",
        "    reply = review.find(\"div\", class_=\"score_reple\")\r\n",
        "    comment = reply.find(\"p\").text.strip()\r\n",
        "\r\n",
        "    # dt 태그 중에 두 번째 요소에 실제 날짜가 담겨있는 걸 확인할 수 있다.\r\n",
        "    date = reply.select(\"dt > em\")[1].text.strip()\r\n",
        "    # 버튼\r\n",
        "    button = review.find(\"div\", class_=\"btn_area\")\r\n",
        "    sympathy = button.select(\"a > strong\")\r\n",
        "\r\n",
        "    # 좋아요\r\n",
        "    good = sympathy[0].text\r\n",
        "    # 싫어요\r\n",
        "    bad = sympathy[1].text\r\n",
        "    review_list.append(Review(comment, date, star, good, bad))\r\n",
        "\r\n",
        "  return title, review_list"
      ],
      "execution_count": 27,
      "outputs": []
    },
    {
      "cell_type": "code",
      "metadata": {
        "id": "FD72SnSVGCX5",
        "colab": {
          "base_uri": "https://localhost:8080/"
        },
        "outputId": "de121340-0b76-4154-9125-74f90552cd09"
      },
      "source": [
        "# 실제로 출력해 보자.\r\n",
        "title, review_list = crawl(\"https://movie.naver.com/movie/bi/mi/basic.nhn?code=150198\")\r\n",
        "print('제목: ' + title)\r\n",
        "for review in review_list:\r\n",
        "  review.show()"
      ],
      "execution_count": 28,
      "outputs": [
        {
          "output_type": "stream",
          "text": [
            "제목: 너의 이름은.\n",
            "내용: 타키. 미츠하. 왜 날짜를 볼때 연도를 안보니\n",
            "날짜: 2017.01.04 10:46\n",
            "별점: 9\n",
            "좋아요: 12008\n",
            "싫어요: 932\n",
            "내용: 영화보고 하루종일 기분좋았던 적은 정말 오랜만인 것 같았다\n",
            "날짜: 2017.01.04 00:04\n",
            "별점: 10\n",
            "좋아요: 10182\n",
            "싫어요: 1270\n",
            "내용: 정말 잘 만들어진 작품인데, 일본 애니메이션이라고 무작정 오타쿠영화 취급하지말고 하나의 작품으로써 재대로 봐주었으면 합니다.\n",
            "날짜: 2017.01.04 00:18\n",
            "별점: 10\n",
            "좋아요: 9913\n",
            "싫어요: 1792\n",
            "내용: 기대하고 보러갔었다.그런데 기대 이상이었다.\n",
            "날짜: 2017.01.04 00:18\n",
            "별점: 10\n",
            "좋아요: 8547\n",
            "싫어요: 1007\n",
            "내용: 내 인생 최고의 영화가 애니메이션이 될줄은 전혀 상상도 못했다.\n",
            "날짜: 2017.01.04 00:20\n",
            "별점: 10\n",
            "좋아요: 7492\n",
            "싫어요: 1160\n"
          ],
          "name": "stdout"
        }
      ]
    },
    {
      "cell_type": "code",
      "metadata": {
        "id": "YfqBtscbeQ6e"
      },
      "source": [
        ""
      ],
      "execution_count": null,
      "outputs": []
    }
  ]
}