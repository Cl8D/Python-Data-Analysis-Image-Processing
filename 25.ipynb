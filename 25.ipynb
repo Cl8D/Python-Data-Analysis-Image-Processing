{
  "nbformat": 4,
  "nbformat_minor": 0,
  "metadata": {
    "colab": {
      "name": "25.ipynb",
      "provenance": [],
      "authorship_tag": "ABX9TyMDD5TwdKHJHeYWRqB4TA2d",
      "include_colab_link": true
    },
    "kernelspec": {
      "name": "python3",
      "display_name": "Python 3"
    }
  },
  "cells": [
    {
      "cell_type": "markdown",
      "metadata": {
        "id": "view-in-github",
        "colab_type": "text"
      },
      "source": [
        "<a href=\"https://colab.research.google.com/github/Cl8D/Python-Data-Analysis-Image-Processing/blob/main/25.ipynb\" target=\"_parent\"><img src=\"https://colab.research.google.com/assets/colab-badge.svg\" alt=\"Open In Colab\"/></a>"
      ]
    },
    {
      "cell_type": "markdown",
      "metadata": {
        "id": "5Z34m1MWZyhb"
      },
      "source": [
        "# **25강. Pandas의 활용**"
      ]
    },
    {
      "cell_type": "code",
      "metadata": {
        "colab": {
          "base_uri": "https://localhost:8080/"
        },
        "id": "Pwvp8pQSZwh2",
        "outputId": "87840313-5480-48ca-bae8-eeda6580d75b"
      },
      "source": [
        "import numpy as np\r\n",
        "import pandas as pd\r\n",
        "\r\n",
        "df = pd.DataFrame(np.random.randint(1, 10, (2, 2)), index=[0, 1], columns=[\"A\", \"B\"])\r\n",
        "print(df)\r\n",
        "\r\n",
        "# A의 각 원소가 5보다 작거나 같은지 출력\r\n",
        "print(df[\"A\"] <= 5)\r\n",
        "# A의 원소가 5보다 작고, B의 원소가 8보다 작은 행 추출\r\n",
        "print(df.query(\"A <= 5 and B <= 8\"))"
      ],
      "execution_count": 1,
      "outputs": [
        {
          "output_type": "stream",
          "text": [
            "   A  B\n",
            "0  2  7\n",
            "1  4  2\n",
            "0    True\n",
            "1    True\n",
            "Name: A, dtype: bool\n",
            "   A  B\n",
            "0  2  7\n",
            "1  4  2\n"
          ],
          "name": "stdout"
        }
      ]
    },
    {
      "cell_type": "code",
      "metadata": {
        "colab": {
          "base_uri": "https://localhost:8080/"
        },
        "id": "23gCHOJUbJs8",
        "outputId": "8e2499df-7f00-48a3-9cbe-9b01728d9657"
      },
      "source": [
        "import pandas as pd\r\n",
        "\r\n",
        "df = pd.DataFrame([[1, 2, 3, 4], [1, 2, 3, 4]], index=[0, 1], columns=[\"A\", \"B\", \"C\", \"D\"])\r\n",
        "print(df)\r\n",
        "\r\n",
        "#모든 데이터에 대해 1을 더한 값을 반환한다\r\n",
        "df = df.apply(lambda x: x + 1) #함수에 따른 데이터 적용 가능\r\n",
        "print(df)\r\n",
        "\r\n",
        "def addOne(x):\r\n",
        "  return x + 1\r\n",
        "  \r\n",
        "df = df.apply(addOne)\r\n",
        "print(df)"
      ],
      "execution_count": 2,
      "outputs": [
        {
          "output_type": "stream",
          "text": [
            "   A  B  C  D\n",
            "0  1  2  3  4\n",
            "1  1  2  3  4\n",
            "   A  B  C  D\n",
            "0  2  3  4  5\n",
            "1  2  3  4  5\n",
            "   A  B  C  D\n",
            "0  3  4  5  6\n",
            "1  3  4  5  6\n"
          ],
          "name": "stdout"
        }
      ]
    },
    {
      "cell_type": "code",
      "metadata": {
        "colab": {
          "base_uri": "https://localhost:8080/"
        },
        "id": "MbeZZpsDd32u",
        "outputId": "3fd4d15d-b2d3-496e-bfd9-e6a49259a030"
      },
      "source": [
        "import pandas as pd\r\n",
        "\r\n",
        "df = pd.DataFrame([\r\n",
        "  ['Apple', 'Apple', 'Carrot', 'Banana'],\r\n",
        "  ['Durian', 'Banana', 'Apple', 'Carrot']],\r\n",
        "  index=[0, 1],\r\n",
        "  columns=[\"A\", \"B\", \"C\", \"D\"])\r\n",
        "\r\n",
        "print(df)\r\n",
        "#Apple이라는 값을 가지는 셀에 대해서만 Airport로 값을 변경한다.\r\n",
        "df = df.replace({\"Apple\": \"Airport\"})\r\n",
        "print(df)"
      ],
      "execution_count": 3,
      "outputs": [
        {
          "output_type": "stream",
          "text": [
            "        A       B       C       D\n",
            "0   Apple   Apple  Carrot  Banana\n",
            "1  Durian  Banana   Apple  Carrot\n",
            "         A        B        C       D\n",
            "0  Airport  Airport   Carrot  Banana\n",
            "1   Durian   Banana  Airport  Carrot\n"
          ],
          "name": "stdout"
        }
      ]
    },
    {
      "cell_type": "code",
      "metadata": {
        "colab": {
          "base_uri": "https://localhost:8080/"
        },
        "id": "o-ne2-M-fNj4",
        "outputId": "67fc3d3c-d306-41aa-c664-370b9b9bc9d5"
      },
      "source": [
        "import pandas as pd\r\n",
        "\r\n",
        "df = pd.DataFrame([\r\n",
        "  ['Apple', 7, 'Fruit'],\r\n",
        "  ['Banana', 3, 'Fruit'],\r\n",
        "  ['Beef', 5, 'Meal'],\r\n",
        "  ['Kimchi', 4, 'Meal']],\r\n",
        "  columns=[\"Name\", \"Frequency\", \"Type\"])\r\n",
        "\r\n",
        "print(df)\r\n",
        "#Type을 기준으로 그룹화하여 sum값을 구하기\r\n",
        "print(df.groupby(['Type']).sum())"
      ],
      "execution_count": 5,
      "outputs": [
        {
          "output_type": "stream",
          "text": [
            "     Name  Frequency   Type\n",
            "0   Apple          7  Fruit\n",
            "1  Banana          3  Fruit\n",
            "2    Beef          5   Meal\n",
            "3  Kimchi          4   Meal\n",
            "       Frequency\n",
            "Type            \n",
            "Fruit         10\n",
            "Meal           9\n"
          ],
          "name": "stdout"
        }
      ]
    },
    {
      "cell_type": "code",
      "metadata": {
        "colab": {
          "base_uri": "https://localhost:8080/"
        },
        "id": "hCoSUJxdfshY",
        "outputId": "14ef7897-e921-47e0-b1f4-6ab286422f76"
      },
      "source": [
        "import numpy as np\r\n",
        "import pandas as pd\r\n",
        "\r\n",
        "df = pd.DataFrame([\r\n",
        "  ['Apple', 7, 5, 'Fruit'],\r\n",
        "  ['Banana', 3, 6, 'Fruit'],\r\n",
        "  ['Beef', 5, 2, 'Meal'],\r\n",
        "  ['Kimchi', 4, 8, 'Meal']],\r\n",
        "  columns=[\"Name\", \"Frequency\", \"Importance\", \"Type\"])\r\n",
        "\r\n",
        "print(df)\r\n",
        "#aggregate를 이용하면 여러 개의 그룹화 연산들을 한 번에 수행이 가능하다.\r\n",
        "print(df.groupby([\"Type\"]).aggregate([min, max, np.average]))"
      ],
      "execution_count": 6,
      "outputs": [
        {
          "output_type": "stream",
          "text": [
            "     Name  Frequency  Importance   Type\n",
            "0   Apple          7           5  Fruit\n",
            "1  Banana          3           6  Fruit\n",
            "2    Beef          5           2   Meal\n",
            "3  Kimchi          4           8   Meal\n",
            "      Frequency             Importance            \n",
            "            min max average        min max average\n",
            "Type                                              \n",
            "Fruit         3   7     5.0          5   6     5.5\n",
            "Meal          4   5     4.5          2   8     5.0\n"
          ],
          "name": "stdout"
        }
      ]
    },
    {
      "cell_type": "code",
      "metadata": {
        "colab": {
          "base_uri": "https://localhost:8080/"
        },
        "id": "X2kbgABXhVkI",
        "outputId": "e0e23416-473d-4a3e-8644-dea3bf3ad9d7"
      },
      "source": [
        "import pandas as pd\r\n",
        "\r\n",
        "df = pd.DataFrame([\r\n",
        "  ['Apple', 7, 5, 'Fruit'],\r\n",
        "  ['Banana', 3, 6, 'Fruit'],\r\n",
        "  ['Beef', 5, 2, 'Meal'],\r\n",
        "  ['Kimchi', 4, 8, 'Meal']],\r\n",
        "  columns=[\"Name\", \"Frequency\", \"Importance\", \"Type\"])\r\n",
        "\r\n",
        "\r\n",
        "#frequency의 평균값이 5이상일 때만 출력하도록 만들기\r\n",
        "def my_filter(data):\r\n",
        "  return data[\"Frequency\"].mean() >= 5\r\n",
        "\r\n",
        "print(df)\r\n",
        "df = df.groupby(\"Type\").filter(my_filter)\r\n",
        "print(df)"
      ],
      "execution_count": 7,
      "outputs": [
        {
          "output_type": "stream",
          "text": [
            "     Name  Frequency  Importance   Type\n",
            "0   Apple          7           5  Fruit\n",
            "1  Banana          3           6  Fruit\n",
            "2    Beef          5           2   Meal\n",
            "3  Kimchi          4           8   Meal\n",
            "     Name  Frequency  Importance   Type\n",
            "0   Apple          7           5  Fruit\n",
            "1  Banana          3           6  Fruit\n"
          ],
          "name": "stdout"
        }
      ]
    },
    {
      "cell_type": "code",
      "metadata": {
        "colab": {
          "base_uri": "https://localhost:8080/"
        },
        "id": "rczADAtbivcJ",
        "outputId": "a31263d8-4511-46aa-d3c3-941cfd91cd5b"
      },
      "source": [
        "import pandas as pd\r\n",
        "\r\n",
        "df = pd.DataFrame([\r\n",
        "  ['Apple', 7, 5, 'Fruit'],\r\n",
        "  ['Banana', 3, 6, 'Fruit'],\r\n",
        "  ['Beef', 5, 2, 'Meal'],\r\n",
        "  ['Kimchi', 4, 8, 'Meal']],\r\n",
        "  columns=[\"Name\", \"Frequency\", \"Importance\", \"Type\"])\r\n",
        "\r\n",
        "#Fruit 타입에 대해서만 데이터 가져오기\r\n",
        "df = df.groupby(\"Type\").get_group(\"Fruit\")\r\n",
        "print(df)"
      ],
      "execution_count": 8,
      "outputs": [
        {
          "output_type": "stream",
          "text": [
            "     Name  Frequency  Importance   Type\n",
            "0   Apple          7           5  Fruit\n",
            "1  Banana          3           6  Fruit\n"
          ],
          "name": "stdout"
        }
      ]
    },
    {
      "cell_type": "code",
      "metadata": {
        "colab": {
          "base_uri": "https://localhost:8080/"
        },
        "id": "qWN2_d2Hj7Oi",
        "outputId": "f2422db8-9c2d-4077-963b-d76677e745d7"
      },
      "source": [
        "import pandas as pd\r\n",
        "\r\n",
        "df = pd.DataFrame([\r\n",
        "  ['Apple', 7, 5, 'Fruit'],\r\n",
        "  ['Banana', 3, 6, 'Fruit'],\r\n",
        "  ['Beef', 5, 2, 'Meal'],\r\n",
        "  ['Kimchi', 4, 8, 'Meal']],\r\n",
        "  columns=[\"Name\", \"Frequency\", \"Importance\", \"Type\"])\r\n",
        "\r\n",
        "#frequency의 mean 값과 얼마나 차이나는지 확인하여 gap이라는 새로운 열을 추가함.\r\n",
        "df[\"Gap\"] = df.groupby(\"Type\")[\"Frequency\"].apply(lambda x: x - x.mean())\r\n",
        "print(df)"
      ],
      "execution_count": 9,
      "outputs": [
        {
          "output_type": "stream",
          "text": [
            "     Name  Frequency  Importance   Type  Gap\n",
            "0   Apple          7           5  Fruit  2.0\n",
            "1  Banana          3           6  Fruit -2.0\n",
            "2    Beef          5           2   Meal  0.5\n",
            "3  Kimchi          4           8   Meal -0.5\n"
          ],
          "name": "stdout"
        }
      ]
    },
    {
      "cell_type": "code",
      "metadata": {
        "colab": {
          "base_uri": "https://localhost:8080/"
        },
        "id": "1_qOZnIikVIl",
        "outputId": "6057de66-610f-4d58-a19d-63cb70ac754f"
      },
      "source": [
        "import numpy as np\r\n",
        "import pandas as pd\r\n",
        "\r\n",
        "df = pd.DataFrame(\r\n",
        "  np.random.randint(1, 10, (4, 4)),\r\n",
        "  index=[['1차', '1차', '2차', '2차'], ['공격', '수비', '공격', '수비']],\r\n",
        "  columns=['1회', '2회', '3회', '4회']\r\n",
        ")\r\n",
        "\r\n",
        "#1, 2회 중에서 2차만 가져오기 \r\n",
        "print(df)\r\n",
        "print(df[[\"1회\", \"2회\"]].loc[\"2차\"])"
      ],
      "execution_count": 11,
      "outputs": [
        {
          "output_type": "stream",
          "text": [
            "       1회  2회  3회  4회\n",
            "1차 공격   9   9   4   3\n",
            "   수비   9   5   3   6\n",
            "2차 공격   9   5   7   6\n",
            "   수비   6   4   4   9\n",
            "    1회  2회\n",
            "공격   9   5\n",
            "수비   6   4\n"
          ],
          "name": "stdout"
        }
      ]
    },
    {
      "cell_type": "code",
      "metadata": {
        "colab": {
          "base_uri": "https://localhost:8080/"
        },
        "id": "KLoxUDCFlNPl",
        "outputId": "6411757f-e60b-4399-c7cc-06b5dbae11ac"
      },
      "source": [
        "import numpy as np\r\n",
        "import pandas as pd\r\n",
        "\r\n",
        "df = pd.DataFrame([\r\n",
        "    ['Apple', 7, 5, 'Fruit'],\r\n",
        "    ['Banana', 3, 6, 'Fruit'],\r\n",
        "    ['Coconut', 2, 6, 'Fruit'],\r\n",
        "    ['Rice', 8, 2, 'Meal'],\r\n",
        "    ['Beef', 5, 2, 'Meal'],\r\n",
        "    ['Kimchi', 4, 8, 'Meal']],\r\n",
        "   columns=[\"Name\", \"Frequency\", \"Importance\", \"Type\"])\r\n",
        "\r\n",
        "print(df)\r\n",
        "df = df.pivot_table(\r\n",
        "    # index로는 importance, column으로는 type, value 값으로는 frequency를 넣어준다.\r\n",
        "    # 기존의 데이터를 변형할 때 피벗 테이블을 많이 사용한다.\r\n",
        "    index=\"Importance\", columns=\"Type\", values=\"Frequency\",\r\n",
        "    # 만약, 같은 importance가 존재한다면 frequency가 더 큰 값을 설정\r\n",
        "    aggfunc=np.max\r\n",
        ")\r\n",
        "print(df)"
      ],
      "execution_count": 15,
      "outputs": [
        {
          "output_type": "stream",
          "text": [
            "      Name  Frequency  Importance   Type\n",
            "0    Apple          7           5  Fruit\n",
            "1   Banana          3           6  Fruit\n",
            "2  Coconut          2           6  Fruit\n",
            "3     Rice          8           2   Meal\n",
            "4     Beef          5           2   Meal\n",
            "5   Kimchi          4           8   Meal\n",
            "Type        Fruit  Meal\n",
            "Importance             \n",
            "2             NaN   8.0\n",
            "5             7.0   NaN\n",
            "6             3.0   NaN\n",
            "8             NaN   4.0\n"
          ],
          "name": "stdout"
        }
      ]
    },
    {
      "cell_type": "code",
      "metadata": {
        "colab": {
          "base_uri": "https://localhost:8080/"
        },
        "id": "WHeIQvsnqGwb",
        "outputId": "7304ddcf-ef29-46a1-da6f-8ba924823acd"
      },
      "source": [
        "import numpy as np\r\n",
        "import pandas as pd\r\n",
        "\r\n",
        "df = pd.DataFrame([\r\n",
        "    ['Apple', 7, 5, 'Fruit'],\r\n",
        "    ['Banana', 3, 6, 'Fruit'],\r\n",
        "    ['Coconut', 2, 6, 'Fruit'],\r\n",
        "    ['Rice', 8, 2, 'Meal'],\r\n",
        "    ['Beef', 5, 2, 'Meal'],\r\n",
        "    ['Kimchi', 4, 8, 'Meal']],\r\n",
        "   columns=[\"Name\", \"Frequency\", \"Importance\", \"Type\"])\r\n",
        "\r\n",
        "print(df)\r\n",
        "df = df.pivot_table(\r\n",
        "    index=\"Importance\", columns=\"Type\", values=\"Frequency\",\r\n",
        "    # 만약, 같은 importance가 존재한다면 frequency가 더 작은 값을 설정\r\n",
        "    aggfunc=np.min\r\n",
        ")\r\n",
        "print(df)"
      ],
      "execution_count": 16,
      "outputs": [
        {
          "output_type": "stream",
          "text": [
            "      Name  Frequency  Importance   Type\n",
            "0    Apple          7           5  Fruit\n",
            "1   Banana          3           6  Fruit\n",
            "2  Coconut          2           6  Fruit\n",
            "3     Rice          8           2   Meal\n",
            "4     Beef          5           2   Meal\n",
            "5   Kimchi          4           8   Meal\n",
            "Type        Fruit  Meal\n",
            "Importance             \n",
            "2             NaN   5.0\n",
            "5             7.0   NaN\n",
            "6             2.0   NaN\n",
            "8             NaN   4.0\n"
          ],
          "name": "stdout"
        }
      ]
    },
    {
      "cell_type": "code",
      "metadata": {
        "id": "v5FdzvSpqOBw"
      },
      "source": [
        ""
      ],
      "execution_count": null,
      "outputs": []
    }
  ]
}