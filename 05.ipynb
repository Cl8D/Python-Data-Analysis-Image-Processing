{
  "nbformat": 4,
  "nbformat_minor": 0,
  "metadata": {
    "colab": {
      "name": "05.ipynb",
      "provenance": [],
      "authorship_tag": "ABX9TyPNI2upvNwJecmjP3iGDlu2",
      "include_colab_link": true
    },
    "kernelspec": {
      "name": "python3",
      "display_name": "Python 3"
    }
  },
  "cells": [
    {
      "cell_type": "markdown",
      "metadata": {
        "id": "view-in-github",
        "colab_type": "text"
      },
      "source": [
        "<a href=\"https://colab.research.google.com/github/Cl8D/Python-Data-Analysis-Image-Processing/blob/main/05.ipynb\" target=\"_parent\"><img src=\"https://colab.research.google.com/assets/colab-badge.svg\" alt=\"Open In Colab\"/></a>"
      ]
    },
    {
      "cell_type": "markdown",
      "metadata": {
        "id": "DJpvS9RPsqus"
      },
      "source": [
        "# **05강. Numpy의 활용**"
      ]
    },
    {
      "cell_type": "code",
      "metadata": {
        "colab": {
          "base_uri": "https://localhost:8080/"
        },
        "id": "RN6K2F2aP0hm",
        "outputId": "a4c7e463-76f5-40d7-e49e-d6030d4c4606"
      },
      "source": [
        "import numpy as np\r\n",
        "\r\n",
        "# 단일 객체 저장 및 불러오기\r\n",
        "array = np.arange(0, 10)\r\n",
        "np.save('saved.npy', array)\r\n",
        "\r\n",
        "result = np.load('saved.npy')\r\n",
        "print(result)\r\n",
        "\r\n",
        "!ls"
      ],
      "execution_count": 5,
      "outputs": [
        {
          "output_type": "stream",
          "text": [
            "[0 1 2 3 4 5 6 7 8 9]\n",
            "sample_data  saved.npy\tsaved.npz\n"
          ],
          "name": "stdout"
        }
      ]
    },
    {
      "cell_type": "code",
      "metadata": {
        "colab": {
          "base_uri": "https://localhost:8080/"
        },
        "id": "7F8z4hHOqe1C",
        "outputId": "28dc4279-98b2-44e2-c9b2-3c9df153b84d"
      },
      "source": [
        "import numpy as np\r\n",
        "\r\n",
        "# 복수 객체 저장 및 불러오기\r\n",
        "array1 = np.arange(0, 10)\r\n",
        "array2 = np.arange(10, 20)\r\n",
        "np.savez('saved.npz', array1=array1, array2=array2)\r\n",
        "\r\n",
        "data = np.load('saved.npz')\r\n",
        "result1 = data['array1']\r\n",
        "result2 = data['array2']\r\n",
        "print(result1)\r\n",
        "print(result2)\r\n",
        "\r\n",
        "!ls"
      ],
      "execution_count": 6,
      "outputs": [
        {
          "output_type": "stream",
          "text": [
            "[0 1 2 3 4 5 6 7 8 9]\n",
            "[10 11 12 13 14 15 16 17 18 19]\n",
            "sample_data  saved.npy\tsaved.npz\n"
          ],
          "name": "stdout"
        }
      ]
    },
    {
      "cell_type": "code",
      "metadata": {
        "colab": {
          "base_uri": "https://localhost:8080/"
        },
        "id": "VpES8hpSqp0D",
        "outputId": "e7270793-8a95-4fb4-cab7-d50c86360481"
      },
      "source": [
        "import numpy as np\r\n",
        "\r\n",
        "array = np.array([5, 9, 10, 3, 1])\r\n",
        "print(array)\r\n",
        "print(\"--\")\r\n",
        "\r\n",
        "# 오름차순 정렬\r\n",
        "array.sort()\r\n",
        "print(array)\r\n",
        "print(\"--\")\r\n",
        "\r\n",
        "# 내림차순 정렬\r\n",
        "array = np.array([5, 9, 10, 3, 1])\r\n",
        "array.sort()\r\n",
        "print(array[::-1]) #거꾸로 출력\r\n",
        "print(\"--\")\r\n",
        "\r\n",
        "# 열을 기준으로 정렬\r\n",
        "array = np.array([[5, 9, 10, 3, 1], [8, 3, 4, 2, 5]])\r\n",
        "print(array)\r\n",
        "print(\"--\")\r\n",
        "\r\n",
        "\r\n",
        "array.sort(axis=0) #더 큰 행이 아래쪽으로 가도록 출력\r\n",
        "print(array)"
      ],
      "execution_count": 12,
      "outputs": [
        {
          "output_type": "stream",
          "text": [
            "[ 5  9 10  3  1]\n",
            "--\n",
            "[ 1  3  5  9 10]\n",
            "--\n",
            "[10  9  5  3  1]\n",
            "--\n",
            "[[ 5  9 10  3  1]\n",
            " [ 8  3  4  2  5]]\n",
            "--\n",
            "[[ 5  3  4  2  1]\n",
            " [ 8  9 10  3  5]]\n"
          ],
          "name": "stdout"
        }
      ]
    },
    {
      "cell_type": "code",
      "metadata": {
        "colab": {
          "base_uri": "https://localhost:8080/"
        },
        "id": "iOJUCfO3rQ3F",
        "outputId": "71c4c598-731d-4871-e19d-2880e7ba2785"
      },
      "source": [
        "import numpy as np\r\n",
        "\r\n",
        "# 균일한 간격으로 데이터 생성\r\n",
        "array = np.linspace(0, 10, 5)\r\n",
        "print(array)\r\n",
        "print(\"--\")\r\n",
        "\r\n",
        "# 난수의 재연(실행마다 결과 동일)\r\n",
        "np.random.seed(7)\r\n",
        "print(np.random.randint(0, 10, (2, 3)))\r\n",
        "print(\"--\")\r\n",
        "\r\n",
        "# 배열 객체 복사\r\n",
        "array1 = np.arange(0, 10)\r\n",
        "print(array1)\r\n",
        "array2 = array1.copy()\r\n",
        "print(array2)\r\n",
        "print(\"--\")\r\n",
        "\r\n",
        "# 중복된 원소 제거\r\n",
        "array = np.array([1, 1, 2, 3, 3, 3, 1])\r\n",
        "print(np.unique(array))"
      ],
      "execution_count": 15,
      "outputs": [
        {
          "output_type": "stream",
          "text": [
            "[ 0.   2.5  5.   7.5 10. ]\n",
            "--\n",
            "[[4 9 6]\n",
            " [3 3 7]]\n",
            "--\n",
            "[0 1 2 3 4 5 6 7 8 9]\n",
            "[0 1 2 3 4 5 6 7 8 9]\n",
            "--\n",
            "[1 2 3]\n"
          ],
          "name": "stdout"
        }
      ]
    },
    {
      "cell_type": "code",
      "metadata": {
        "id": "xUFPU3EUsAkB"
      },
      "source": [
        ""
      ],
      "execution_count": null,
      "outputs": []
    }
  ]
}